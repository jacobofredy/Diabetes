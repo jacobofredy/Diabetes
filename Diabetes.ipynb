{
 "cells": [
  {
   "cell_type": "code",
   "execution_count": null,
   "metadata": {},
   "outputs": [],
   "source": [
    "from IPython.core.interactiveshell import InteractiveShell\n",
    "InteractiveShell.ast_node_interactivity = \"all\""
   ]
  },
  {
   "cell_type": "markdown",
   "metadata": {},
   "source": [
    "# Diabetes against all ML\n",
    "\n",
    "In this project, we will test all what we studied about classifications using the diabetes dataset."
   ]
  },
  {
   "cell_type": "code",
   "execution_count": 2,
   "metadata": {},
   "outputs": [
    {
     "data": {
      "text/html": [
       "<div>\n",
       "<style scoped>\n",
       "    .dataframe tbody tr th:only-of-type {\n",
       "        vertical-align: middle;\n",
       "    }\n",
       "\n",
       "    .dataframe tbody tr th {\n",
       "        vertical-align: top;\n",
       "    }\n",
       "\n",
       "    .dataframe thead th {\n",
       "        text-align: right;\n",
       "    }\n",
       "</style>\n",
       "<table border=\"1\" class=\"dataframe\">\n",
       "  <thead>\n",
       "    <tr style=\"text-align: right;\">\n",
       "      <th></th>\n",
       "      <th>Pregnancies</th>\n",
       "      <th>Glucose</th>\n",
       "      <th>BloodPressure</th>\n",
       "      <th>SkinThickness</th>\n",
       "      <th>Insulin</th>\n",
       "      <th>BMI</th>\n",
       "      <th>DiabetesPedigreeFunction</th>\n",
       "      <th>Age</th>\n",
       "      <th>Outcome</th>\n",
       "    </tr>\n",
       "  </thead>\n",
       "  <tbody>\n",
       "    <tr>\n",
       "      <td>0</td>\n",
       "      <td>6</td>\n",
       "      <td>148</td>\n",
       "      <td>72</td>\n",
       "      <td>35</td>\n",
       "      <td>0</td>\n",
       "      <td>33.6</td>\n",
       "      <td>0.627</td>\n",
       "      <td>50</td>\n",
       "      <td>1</td>\n",
       "    </tr>\n",
       "    <tr>\n",
       "      <td>1</td>\n",
       "      <td>1</td>\n",
       "      <td>85</td>\n",
       "      <td>66</td>\n",
       "      <td>29</td>\n",
       "      <td>0</td>\n",
       "      <td>26.6</td>\n",
       "      <td>0.351</td>\n",
       "      <td>31</td>\n",
       "      <td>0</td>\n",
       "    </tr>\n",
       "    <tr>\n",
       "      <td>2</td>\n",
       "      <td>8</td>\n",
       "      <td>183</td>\n",
       "      <td>64</td>\n",
       "      <td>0</td>\n",
       "      <td>0</td>\n",
       "      <td>23.3</td>\n",
       "      <td>0.672</td>\n",
       "      <td>32</td>\n",
       "      <td>1</td>\n",
       "    </tr>\n",
       "    <tr>\n",
       "      <td>3</td>\n",
       "      <td>1</td>\n",
       "      <td>89</td>\n",
       "      <td>66</td>\n",
       "      <td>23</td>\n",
       "      <td>94</td>\n",
       "      <td>28.1</td>\n",
       "      <td>0.167</td>\n",
       "      <td>21</td>\n",
       "      <td>0</td>\n",
       "    </tr>\n",
       "    <tr>\n",
       "      <td>4</td>\n",
       "      <td>0</td>\n",
       "      <td>137</td>\n",
       "      <td>40</td>\n",
       "      <td>35</td>\n",
       "      <td>168</td>\n",
       "      <td>43.1</td>\n",
       "      <td>2.288</td>\n",
       "      <td>33</td>\n",
       "      <td>1</td>\n",
       "    </tr>\n",
       "  </tbody>\n",
       "</table>\n",
       "</div>"
      ],
      "text/plain": [
       "   Pregnancies  Glucose  BloodPressure  SkinThickness  Insulin   BMI  \\\n",
       "0            6      148             72             35        0  33.6   \n",
       "1            1       85             66             29        0  26.6   \n",
       "2            8      183             64              0        0  23.3   \n",
       "3            1       89             66             23       94  28.1   \n",
       "4            0      137             40             35      168  43.1   \n",
       "\n",
       "   DiabetesPedigreeFunction  Age  Outcome  \n",
       "0                     0.627   50        1  \n",
       "1                     0.351   31        0  \n",
       "2                     0.672   32        1  \n",
       "3                     0.167   21        0  \n",
       "4                     2.288   33        1  "
      ]
     },
     "execution_count": 2,
     "metadata": {},
     "output_type": "execute_result"
    },
    {
     "data": {
      "text/html": [
       "<div>\n",
       "<style scoped>\n",
       "    .dataframe tbody tr th:only-of-type {\n",
       "        vertical-align: middle;\n",
       "    }\n",
       "\n",
       "    .dataframe tbody tr th {\n",
       "        vertical-align: top;\n",
       "    }\n",
       "\n",
       "    .dataframe thead th {\n",
       "        text-align: right;\n",
       "    }\n",
       "</style>\n",
       "<table border=\"1\" class=\"dataframe\">\n",
       "  <thead>\n",
       "    <tr style=\"text-align: right;\">\n",
       "      <th></th>\n",
       "      <th>Pregnancies</th>\n",
       "      <th>Glucose</th>\n",
       "      <th>BloodPressure</th>\n",
       "      <th>SkinThickness</th>\n",
       "      <th>Insulin</th>\n",
       "      <th>BMI</th>\n",
       "      <th>DiabetesPedigreeFunction</th>\n",
       "      <th>Age</th>\n",
       "      <th>Outcome</th>\n",
       "    </tr>\n",
       "  </thead>\n",
       "  <tbody>\n",
       "    <tr>\n",
       "      <td>763</td>\n",
       "      <td>10</td>\n",
       "      <td>101</td>\n",
       "      <td>76</td>\n",
       "      <td>48</td>\n",
       "      <td>180</td>\n",
       "      <td>32.9</td>\n",
       "      <td>0.171</td>\n",
       "      <td>63</td>\n",
       "      <td>0</td>\n",
       "    </tr>\n",
       "    <tr>\n",
       "      <td>764</td>\n",
       "      <td>2</td>\n",
       "      <td>122</td>\n",
       "      <td>70</td>\n",
       "      <td>27</td>\n",
       "      <td>0</td>\n",
       "      <td>36.8</td>\n",
       "      <td>0.340</td>\n",
       "      <td>27</td>\n",
       "      <td>0</td>\n",
       "    </tr>\n",
       "    <tr>\n",
       "      <td>765</td>\n",
       "      <td>5</td>\n",
       "      <td>121</td>\n",
       "      <td>72</td>\n",
       "      <td>23</td>\n",
       "      <td>112</td>\n",
       "      <td>26.2</td>\n",
       "      <td>0.245</td>\n",
       "      <td>30</td>\n",
       "      <td>0</td>\n",
       "    </tr>\n",
       "    <tr>\n",
       "      <td>766</td>\n",
       "      <td>1</td>\n",
       "      <td>126</td>\n",
       "      <td>60</td>\n",
       "      <td>0</td>\n",
       "      <td>0</td>\n",
       "      <td>30.1</td>\n",
       "      <td>0.349</td>\n",
       "      <td>47</td>\n",
       "      <td>1</td>\n",
       "    </tr>\n",
       "    <tr>\n",
       "      <td>767</td>\n",
       "      <td>1</td>\n",
       "      <td>93</td>\n",
       "      <td>70</td>\n",
       "      <td>31</td>\n",
       "      <td>0</td>\n",
       "      <td>30.4</td>\n",
       "      <td>0.315</td>\n",
       "      <td>23</td>\n",
       "      <td>0</td>\n",
       "    </tr>\n",
       "  </tbody>\n",
       "</table>\n",
       "</div>"
      ],
      "text/plain": [
       "     Pregnancies  Glucose  BloodPressure  SkinThickness  Insulin   BMI  \\\n",
       "763           10      101             76             48      180  32.9   \n",
       "764            2      122             70             27        0  36.8   \n",
       "765            5      121             72             23      112  26.2   \n",
       "766            1      126             60              0        0  30.1   \n",
       "767            1       93             70             31        0  30.4   \n",
       "\n",
       "     DiabetesPedigreeFunction  Age  Outcome  \n",
       "763                     0.171   63        0  \n",
       "764                     0.340   27        0  \n",
       "765                     0.245   30        0  \n",
       "766                     0.349   47        1  \n",
       "767                     0.315   23        0  "
      ]
     },
     "execution_count": 2,
     "metadata": {},
     "output_type": "execute_result"
    },
    {
     "name": "stdout",
     "output_type": "stream",
     "text": [
      "<class 'pandas.core.frame.DataFrame'>\n",
      "RangeIndex: 768 entries, 0 to 767\n",
      "Data columns (total 9 columns):\n",
      "Pregnancies                 768 non-null int64\n",
      "Glucose                     768 non-null int64\n",
      "BloodPressure               768 non-null int64\n",
      "SkinThickness               768 non-null int64\n",
      "Insulin                     768 non-null int64\n",
      "BMI                         768 non-null float64\n",
      "DiabetesPedigreeFunction    768 non-null float64\n",
      "Age                         768 non-null int64\n",
      "Outcome                     768 non-null int64\n",
      "dtypes: float64(2), int64(7)\n",
      "memory usage: 54.1 KB\n"
     ]
    }
   ],
   "source": [
    "import pandas as pd\n",
    "df = pd.read_csv('diabetes.csv')\n",
    "df.head(5); df.tail(5)\n",
    "df.info()"
   ]
  },
  {
   "cell_type": "code",
   "execution_count": 3,
   "metadata": {},
   "outputs": [
    {
     "data": {
      "text/plain": [
       "(768, 9)"
      ]
     },
     "execution_count": 3,
     "metadata": {},
     "output_type": "execute_result"
    },
    {
     "data": {
      "text/plain": [
       "Index(['Pregnancies', 'Glucose', 'BloodPressure', 'SkinThickness', 'Insulin',\n",
       "       'BMI', 'DiabetesPedigreeFunction', 'Age', 'Outcome'],\n",
       "      dtype='object')"
      ]
     },
     "execution_count": 3,
     "metadata": {},
     "output_type": "execute_result"
    },
    {
     "data": {
      "text/plain": [
       "Pregnancies                 0\n",
       "Glucose                     0\n",
       "BloodPressure               0\n",
       "SkinThickness               0\n",
       "Insulin                     0\n",
       "BMI                         0\n",
       "DiabetesPedigreeFunction    0\n",
       "Age                         0\n",
       "Outcome                     0\n",
       "dtype: int64"
      ]
     },
     "execution_count": 3,
     "metadata": {},
     "output_type": "execute_result"
    },
    {
     "data": {
      "text/html": [
       "<div>\n",
       "<style scoped>\n",
       "    .dataframe tbody tr th:only-of-type {\n",
       "        vertical-align: middle;\n",
       "    }\n",
       "\n",
       "    .dataframe tbody tr th {\n",
       "        vertical-align: top;\n",
       "    }\n",
       "\n",
       "    .dataframe thead th {\n",
       "        text-align: right;\n",
       "    }\n",
       "</style>\n",
       "<table border=\"1\" class=\"dataframe\">\n",
       "  <thead>\n",
       "    <tr style=\"text-align: right;\">\n",
       "      <th></th>\n",
       "      <th>Pregnancies</th>\n",
       "      <th>Glucose</th>\n",
       "      <th>BloodPressure</th>\n",
       "      <th>SkinThickness</th>\n",
       "      <th>Insulin</th>\n",
       "      <th>BMI</th>\n",
       "      <th>DiabetesPedigreeFunction</th>\n",
       "      <th>Age</th>\n",
       "      <th>Outcome</th>\n",
       "    </tr>\n",
       "  </thead>\n",
       "  <tbody>\n",
       "    <tr>\n",
       "      <td>count</td>\n",
       "      <td>768.000000</td>\n",
       "      <td>768.000000</td>\n",
       "      <td>768.000000</td>\n",
       "      <td>768.000000</td>\n",
       "      <td>768.000000</td>\n",
       "      <td>768.000000</td>\n",
       "      <td>768.000000</td>\n",
       "      <td>768.000000</td>\n",
       "      <td>768.000000</td>\n",
       "    </tr>\n",
       "    <tr>\n",
       "      <td>mean</td>\n",
       "      <td>3.845052</td>\n",
       "      <td>120.894531</td>\n",
       "      <td>69.105469</td>\n",
       "      <td>20.536458</td>\n",
       "      <td>79.799479</td>\n",
       "      <td>31.992578</td>\n",
       "      <td>0.471876</td>\n",
       "      <td>33.240885</td>\n",
       "      <td>0.348958</td>\n",
       "    </tr>\n",
       "    <tr>\n",
       "      <td>std</td>\n",
       "      <td>3.369578</td>\n",
       "      <td>31.972618</td>\n",
       "      <td>19.355807</td>\n",
       "      <td>15.952218</td>\n",
       "      <td>115.244002</td>\n",
       "      <td>7.884160</td>\n",
       "      <td>0.331329</td>\n",
       "      <td>11.760232</td>\n",
       "      <td>0.476951</td>\n",
       "    </tr>\n",
       "    <tr>\n",
       "      <td>min</td>\n",
       "      <td>0.000000</td>\n",
       "      <td>0.000000</td>\n",
       "      <td>0.000000</td>\n",
       "      <td>0.000000</td>\n",
       "      <td>0.000000</td>\n",
       "      <td>0.000000</td>\n",
       "      <td>0.078000</td>\n",
       "      <td>21.000000</td>\n",
       "      <td>0.000000</td>\n",
       "    </tr>\n",
       "    <tr>\n",
       "      <td>25%</td>\n",
       "      <td>1.000000</td>\n",
       "      <td>99.000000</td>\n",
       "      <td>62.000000</td>\n",
       "      <td>0.000000</td>\n",
       "      <td>0.000000</td>\n",
       "      <td>27.300000</td>\n",
       "      <td>0.243750</td>\n",
       "      <td>24.000000</td>\n",
       "      <td>0.000000</td>\n",
       "    </tr>\n",
       "    <tr>\n",
       "      <td>50%</td>\n",
       "      <td>3.000000</td>\n",
       "      <td>117.000000</td>\n",
       "      <td>72.000000</td>\n",
       "      <td>23.000000</td>\n",
       "      <td>30.500000</td>\n",
       "      <td>32.000000</td>\n",
       "      <td>0.372500</td>\n",
       "      <td>29.000000</td>\n",
       "      <td>0.000000</td>\n",
       "    </tr>\n",
       "    <tr>\n",
       "      <td>75%</td>\n",
       "      <td>6.000000</td>\n",
       "      <td>140.250000</td>\n",
       "      <td>80.000000</td>\n",
       "      <td>32.000000</td>\n",
       "      <td>127.250000</td>\n",
       "      <td>36.600000</td>\n",
       "      <td>0.626250</td>\n",
       "      <td>41.000000</td>\n",
       "      <td>1.000000</td>\n",
       "    </tr>\n",
       "    <tr>\n",
       "      <td>max</td>\n",
       "      <td>17.000000</td>\n",
       "      <td>199.000000</td>\n",
       "      <td>122.000000</td>\n",
       "      <td>99.000000</td>\n",
       "      <td>846.000000</td>\n",
       "      <td>67.100000</td>\n",
       "      <td>2.420000</td>\n",
       "      <td>81.000000</td>\n",
       "      <td>1.000000</td>\n",
       "    </tr>\n",
       "  </tbody>\n",
       "</table>\n",
       "</div>"
      ],
      "text/plain": [
       "       Pregnancies     Glucose  BloodPressure  SkinThickness     Insulin  \\\n",
       "count   768.000000  768.000000     768.000000     768.000000  768.000000   \n",
       "mean      3.845052  120.894531      69.105469      20.536458   79.799479   \n",
       "std       3.369578   31.972618      19.355807      15.952218  115.244002   \n",
       "min       0.000000    0.000000       0.000000       0.000000    0.000000   \n",
       "25%       1.000000   99.000000      62.000000       0.000000    0.000000   \n",
       "50%       3.000000  117.000000      72.000000      23.000000   30.500000   \n",
       "75%       6.000000  140.250000      80.000000      32.000000  127.250000   \n",
       "max      17.000000  199.000000     122.000000      99.000000  846.000000   \n",
       "\n",
       "              BMI  DiabetesPedigreeFunction         Age     Outcome  \n",
       "count  768.000000                768.000000  768.000000  768.000000  \n",
       "mean    31.992578                  0.471876   33.240885    0.348958  \n",
       "std      7.884160                  0.331329   11.760232    0.476951  \n",
       "min      0.000000                  0.078000   21.000000    0.000000  \n",
       "25%     27.300000                  0.243750   24.000000    0.000000  \n",
       "50%     32.000000                  0.372500   29.000000    0.000000  \n",
       "75%     36.600000                  0.626250   41.000000    1.000000  \n",
       "max     67.100000                  2.420000   81.000000    1.000000  "
      ]
     },
     "execution_count": 3,
     "metadata": {},
     "output_type": "execute_result"
    }
   ],
   "source": [
    "df.shape\n",
    "df.columns\n",
    "df.isna().sum()\n",
    "df.describe()"
   ]
  },
  {
   "cell_type": "markdown",
   "metadata": {},
   "source": [
    "### PCA\n",
    "First we start with PCA. Using PCA, show the importance of each of the PCA dimensions on a bar plot. What is a reasonable number of dimensions in your opinion to obtain at least 95% explained_var_ratio?"
   ]
  },
  {
   "cell_type": "code",
   "execution_count": 17,
   "metadata": {},
   "outputs": [
    {
     "data": {
      "text/plain": [
       "array([0.26179749, 0.21640127, 0.12870373, 0.10944113, 0.09529305,\n",
       "       0.08532855, 0.05247702])"
      ]
     },
     "execution_count": 17,
     "metadata": {},
     "output_type": "execute_result"
    },
    {
     "name": "stdout",
     "output_type": "stream",
     "text": [
      "Sum of our principal components 0.9494422440130162\n"
     ]
    },
    {
     "data": {
      "text/html": [
       "<div>\n",
       "<style scoped>\n",
       "    .dataframe tbody tr th:only-of-type {\n",
       "        vertical-align: middle;\n",
       "    }\n",
       "\n",
       "    .dataframe tbody tr th {\n",
       "        vertical-align: top;\n",
       "    }\n",
       "\n",
       "    .dataframe thead th {\n",
       "        text-align: right;\n",
       "    }\n",
       "</style>\n",
       "<table border=\"1\" class=\"dataframe\">\n",
       "  <thead>\n",
       "    <tr style=\"text-align: right;\">\n",
       "      <th></th>\n",
       "      <th>PCA1</th>\n",
       "      <th>PCA2</th>\n",
       "      <th>PCA3</th>\n",
       "      <th>PCA4</th>\n",
       "      <th>PCA5</th>\n",
       "      <th>PCA6</th>\n",
       "      <th>PCA7</th>\n",
       "      <th>Outcome</th>\n",
       "    </tr>\n",
       "  </thead>\n",
       "  <tbody>\n",
       "    <tr>\n",
       "      <td>0</td>\n",
       "      <td>1.068503</td>\n",
       "      <td>1.234895</td>\n",
       "      <td>0.095930</td>\n",
       "      <td>0.496990</td>\n",
       "      <td>-0.109985</td>\n",
       "      <td>0.357183</td>\n",
       "      <td>0.858821</td>\n",
       "      <td>1</td>\n",
       "    </tr>\n",
       "    <tr>\n",
       "      <td>1</td>\n",
       "      <td>-1.121683</td>\n",
       "      <td>-0.733852</td>\n",
       "      <td>-0.712938</td>\n",
       "      <td>0.285056</td>\n",
       "      <td>-0.389507</td>\n",
       "      <td>-0.406329</td>\n",
       "      <td>0.757034</td>\n",
       "      <td>0</td>\n",
       "    </tr>\n",
       "    <tr>\n",
       "      <td>2</td>\n",
       "      <td>-0.396477</td>\n",
       "      <td>1.595876</td>\n",
       "      <td>1.760678</td>\n",
       "      <td>-0.070395</td>\n",
       "      <td>0.906474</td>\n",
       "      <td>-0.040018</td>\n",
       "      <td>-1.152990</td>\n",
       "      <td>1</td>\n",
       "    </tr>\n",
       "    <tr>\n",
       "      <td>3</td>\n",
       "      <td>-1.115781</td>\n",
       "      <td>-1.271241</td>\n",
       "      <td>-0.663729</td>\n",
       "      <td>-0.579123</td>\n",
       "      <td>-0.356060</td>\n",
       "      <td>-0.412520</td>\n",
       "      <td>-0.029247</td>\n",
       "      <td>0</td>\n",
       "    </tr>\n",
       "    <tr>\n",
       "      <td>4</td>\n",
       "      <td>2.359334</td>\n",
       "      <td>-2.184819</td>\n",
       "      <td>2.963107</td>\n",
       "      <td>4.033099</td>\n",
       "      <td>0.592684</td>\n",
       "      <td>1.078341</td>\n",
       "      <td>0.549358</td>\n",
       "      <td>1</td>\n",
       "    </tr>\n",
       "  </tbody>\n",
       "</table>\n",
       "</div>"
      ],
      "text/plain": [
       "       PCA1      PCA2      PCA3      PCA4      PCA5      PCA6      PCA7  \\\n",
       "0  1.068503  1.234895  0.095930  0.496990 -0.109985  0.357183  0.858821   \n",
       "1 -1.121683 -0.733852 -0.712938  0.285056 -0.389507 -0.406329  0.757034   \n",
       "2 -0.396477  1.595876  1.760678 -0.070395  0.906474 -0.040018 -1.152990   \n",
       "3 -1.115781 -1.271241 -0.663729 -0.579123 -0.356060 -0.412520 -0.029247   \n",
       "4  2.359334 -2.184819  2.963107  4.033099  0.592684  1.078341  0.549358   \n",
       "\n",
       "   Outcome  \n",
       "0        1  \n",
       "1        0  \n",
       "2        1  \n",
       "3        0  \n",
       "4        1  "
      ]
     },
     "execution_count": 17,
     "metadata": {},
     "output_type": "execute_result"
    },
    {
     "data": {
      "text/plain": [
       "<AxesSubplot:xlabel='x_pca', ylabel='var'>"
      ]
     },
     "execution_count": 17,
     "metadata": {},
     "output_type": "execute_result"
    },
    {
     "data": {
      "image/png": "[encoded data removed]",
      "text/plain": [
       "<Figure size 432x288 with 1 Axes>"
      ]
     },
     "metadata": {
      "needs_background": "light"
     },
     "output_type": "display_data"
    }
   ],
   "source": [
    "from sklearn.preprocessing import StandardScaler\n",
    "from sklearn.decomposition import PCA\n",
    "import matplotlib.pyplot as plt\n",
    "import seaborn as sns\n",
    "\n",
    "features = df.iloc[:,0:8].values # independent variables\n",
    "y = df.iloc[:,8:9].values # dependent variable\n",
    "\n",
    "#Standardizing my data\n",
    "x = StandardScaler().fit_transform(features)\n",
    "\n",
    "#pca = PCA(.95) #instead of reducing it by number of components, I can elect to keep 95% of variance\n",
    "pca = PCA(n_components = 7) # however if I select the above we get 99% variance\n",
    "\n",
    "x_pca = pca.fit_transform(x)\n",
    "\n",
    "pca.explained_variance_ratio_ #variance of the two components that resulted in at least 95% of variance kept\n",
    "print(\"Sum of our principal components\",pca.explained_variance_ratio_ .sum())\n",
    "\n",
    "# Concat outcome with new reduced PCA components\n",
    "target = df.iloc[:,8:9]\n",
    "pca_df = pd.DataFrame(data=x_pca, columns =[\"PCA1\", \"PCA2\",\"PCA3\",\"PCA4\",\"PCA5\",\"PCA6\",\"PCA7\"])\n",
    "new_df = pd.concat([pca_df, target], axis = 1)\n",
    "new_df.head(5)\n",
    "\n",
    "# Plotting the PCA components\n",
    "df1 = pd.DataFrame({\"var\": pca.explained_variance_ratio_, \"x_pca\":[\"PCA1\", \"PCA2\",\"PCA3\",\"PCA4\",\"PCA5\",\"PCA6\",\"PCA7\"]})\n",
    "sns.barplot(x= \"x_pca\", y = \"var\", data= df1)\n",
    "plt.show()\n",
    "\n",
    "# 7 is the right number of components to reduce our data to as I summed the variance for each principal component\n",
    "# and we get a total of around 95%. "
   ]
  },
  {
   "cell_type": "markdown",
   "metadata": {},
   "source": [
    "## KMeans\n",
    "Do clustering using KMeans on the original dataset (not the PCA) using K=2. Calculate Homogonity and Completeness score. Is that a good clustering?"
   ]
  },
  {
   "cell_type": "code",
   "execution_count": 5,
   "metadata": {},
   "outputs": [
    {
     "data": {
      "text/html": [
       "<div>\n",
       "<style scoped>\n",
       "    .dataframe tbody tr th:only-of-type {\n",
       "        vertical-align: middle;\n",
       "    }\n",
       "\n",
       "    .dataframe tbody tr th {\n",
       "        vertical-align: top;\n",
       "    }\n",
       "\n",
       "    .dataframe thead th {\n",
       "        text-align: right;\n",
       "    }\n",
       "</style>\n",
       "<table border=\"1\" class=\"dataframe\">\n",
       "  <thead>\n",
       "    <tr style=\"text-align: right;\">\n",
       "      <th></th>\n",
       "      <th>Pregnancies</th>\n",
       "      <th>Glucose</th>\n",
       "      <th>BloodPressure</th>\n",
       "      <th>SkinThickness</th>\n",
       "      <th>Insulin</th>\n",
       "      <th>BMI</th>\n",
       "      <th>DiabetesPedigreeFunction</th>\n",
       "      <th>Age</th>\n",
       "      <th>Outcome</th>\n",
       "    </tr>\n",
       "  </thead>\n",
       "  <tbody>\n",
       "    <tr>\n",
       "      <td>0</td>\n",
       "      <td>6</td>\n",
       "      <td>148</td>\n",
       "      <td>72</td>\n",
       "      <td>35</td>\n",
       "      <td>0</td>\n",
       "      <td>33.6</td>\n",
       "      <td>0.627</td>\n",
       "      <td>50</td>\n",
       "      <td>1</td>\n",
       "    </tr>\n",
       "    <tr>\n",
       "      <td>1</td>\n",
       "      <td>1</td>\n",
       "      <td>85</td>\n",
       "      <td>66</td>\n",
       "      <td>29</td>\n",
       "      <td>0</td>\n",
       "      <td>26.6</td>\n",
       "      <td>0.351</td>\n",
       "      <td>31</td>\n",
       "      <td>0</td>\n",
       "    </tr>\n",
       "    <tr>\n",
       "      <td>2</td>\n",
       "      <td>8</td>\n",
       "      <td>183</td>\n",
       "      <td>64</td>\n",
       "      <td>0</td>\n",
       "      <td>0</td>\n",
       "      <td>23.3</td>\n",
       "      <td>0.672</td>\n",
       "      <td>32</td>\n",
       "      <td>1</td>\n",
       "    </tr>\n",
       "    <tr>\n",
       "      <td>3</td>\n",
       "      <td>1</td>\n",
       "      <td>89</td>\n",
       "      <td>66</td>\n",
       "      <td>23</td>\n",
       "      <td>94</td>\n",
       "      <td>28.1</td>\n",
       "      <td>0.167</td>\n",
       "      <td>21</td>\n",
       "      <td>0</td>\n",
       "    </tr>\n",
       "    <tr>\n",
       "      <td>4</td>\n",
       "      <td>0</td>\n",
       "      <td>137</td>\n",
       "      <td>40</td>\n",
       "      <td>35</td>\n",
       "      <td>168</td>\n",
       "      <td>43.1</td>\n",
       "      <td>2.288</td>\n",
       "      <td>33</td>\n",
       "      <td>1</td>\n",
       "    </tr>\n",
       "  </tbody>\n",
       "</table>\n",
       "</div>"
      ],
      "text/plain": [
       "   Pregnancies  Glucose  BloodPressure  SkinThickness  Insulin   BMI  \\\n",
       "0            6      148             72             35        0  33.6   \n",
       "1            1       85             66             29        0  26.6   \n",
       "2            8      183             64              0        0  23.3   \n",
       "3            1       89             66             23       94  28.1   \n",
       "4            0      137             40             35      168  43.1   \n",
       "\n",
       "   DiabetesPedigreeFunction  Age  Outcome  \n",
       "0                     0.627   50        1  \n",
       "1                     0.351   31        0  \n",
       "2                     0.672   32        1  \n",
       "3                     0.167   21        0  \n",
       "4                     2.288   33        1  "
      ]
     },
     "execution_count": 5,
     "metadata": {},
     "output_type": "execute_result"
    },
    {
     "data": {
      "text/html": [
       "<div>\n",
       "<style scoped>\n",
       "    .dataframe tbody tr th:only-of-type {\n",
       "        vertical-align: middle;\n",
       "    }\n",
       "\n",
       "    .dataframe tbody tr th {\n",
       "        vertical-align: top;\n",
       "    }\n",
       "\n",
       "    .dataframe thead th {\n",
       "        text-align: right;\n",
       "    }\n",
       "</style>\n",
       "<table border=\"1\" class=\"dataframe\">\n",
       "  <thead>\n",
       "    <tr style=\"text-align: right;\">\n",
       "      <th></th>\n",
       "      <th>Pregnancies</th>\n",
       "      <th>Glucose</th>\n",
       "      <th>BloodPressure</th>\n",
       "      <th>SkinThickness</th>\n",
       "      <th>Insulin</th>\n",
       "      <th>BMI</th>\n",
       "      <th>DiabetesPedigreeFunction</th>\n",
       "      <th>Age</th>\n",
       "      <th>Outcome</th>\n",
       "    </tr>\n",
       "  </thead>\n",
       "  <tbody>\n",
       "    <tr>\n",
       "      <td>763</td>\n",
       "      <td>10</td>\n",
       "      <td>101</td>\n",
       "      <td>76</td>\n",
       "      <td>48</td>\n",
       "      <td>180</td>\n",
       "      <td>32.9</td>\n",
       "      <td>0.171</td>\n",
       "      <td>63</td>\n",
       "      <td>0</td>\n",
       "    </tr>\n",
       "    <tr>\n",
       "      <td>764</td>\n",
       "      <td>2</td>\n",
       "      <td>122</td>\n",
       "      <td>70</td>\n",
       "      <td>27</td>\n",
       "      <td>0</td>\n",
       "      <td>36.8</td>\n",
       "      <td>0.340</td>\n",
       "      <td>27</td>\n",
       "      <td>0</td>\n",
       "    </tr>\n",
       "    <tr>\n",
       "      <td>765</td>\n",
       "      <td>5</td>\n",
       "      <td>121</td>\n",
       "      <td>72</td>\n",
       "      <td>23</td>\n",
       "      <td>112</td>\n",
       "      <td>26.2</td>\n",
       "      <td>0.245</td>\n",
       "      <td>30</td>\n",
       "      <td>0</td>\n",
       "    </tr>\n",
       "    <tr>\n",
       "      <td>766</td>\n",
       "      <td>1</td>\n",
       "      <td>126</td>\n",
       "      <td>60</td>\n",
       "      <td>0</td>\n",
       "      <td>0</td>\n",
       "      <td>30.1</td>\n",
       "      <td>0.349</td>\n",
       "      <td>47</td>\n",
       "      <td>1</td>\n",
       "    </tr>\n",
       "    <tr>\n",
       "      <td>767</td>\n",
       "      <td>1</td>\n",
       "      <td>93</td>\n",
       "      <td>70</td>\n",
       "      <td>31</td>\n",
       "      <td>0</td>\n",
       "      <td>30.4</td>\n",
       "      <td>0.315</td>\n",
       "      <td>23</td>\n",
       "      <td>0</td>\n",
       "    </tr>\n",
       "  </tbody>\n",
       "</table>\n",
       "</div>"
      ],
      "text/plain": [
       "     Pregnancies  Glucose  BloodPressure  SkinThickness  Insulin   BMI  \\\n",
       "763           10      101             76             48      180  32.9   \n",
       "764            2      122             70             27        0  36.8   \n",
       "765            5      121             72             23      112  26.2   \n",
       "766            1      126             60              0        0  30.1   \n",
       "767            1       93             70             31        0  30.4   \n",
       "\n",
       "     DiabetesPedigreeFunction  Age  Outcome  \n",
       "763                     0.171   63        0  \n",
       "764                     0.340   27        0  \n",
       "765                     0.245   30        0  \n",
       "766                     0.349   47        1  \n",
       "767                     0.315   23        0  "
      ]
     },
     "execution_count": 5,
     "metadata": {},
     "output_type": "execute_result"
    },
    {
     "data": {
      "text/plain": [
       "-5.149462054959605e-16"
      ]
     },
     "execution_count": 5,
     "metadata": {},
     "output_type": "execute_result"
    },
    {
     "data": {
      "text/plain": [
       "1.0"
      ]
     },
     "execution_count": 5,
     "metadata": {},
     "output_type": "execute_result"
    },
    {
     "data": {
      "text/plain": [
       "'\\n  No, it is not good clustering as the scores for both homogeneity and completeness are really low, \\nwhich means that our data was not clustered correctly as it contains data that should not go into\\nthat specific cluster.If we had effective/efficient clustering then our homogeneity and completeness score would be close to 1. \\n'"
      ]
     },
     "execution_count": 5,
     "metadata": {},
     "output_type": "execute_result"
    }
   ],
   "source": [
    "from sklearn.cluster import KMeans \n",
    "from sklearn import metrics\n",
    "\n",
    "df.head(5); df.tail(5)\n",
    "x1 = df.drop(\"Outcome\", axis = 1) #features \n",
    "y = df[\"Outcome\"] #target\n",
    "\n",
    "kmeans_model = KMeans(n_clusters = 2).fit(x1)\n",
    "\n",
    "y_pred = kmeans_model.predict(x)\n",
    "\n",
    "metrics.homogeneity_score(labels_true = y, labels_pred = y_pred)\n",
    "#metrics.completeness_score(labels_pred = y_pred, labels_true = y)\n",
    "metrics.completeness_score(labels_pred = y_pred, labels_true = y)\n",
    "'''\n",
    "  No, it is not good clustering as the scores for both homogeneity and completeness are really low, \n",
    "which means that our data was not clustered correctly as it contains data that should not go into\n",
    "that specific cluster.If we had effective/efficient clustering then our homogeneity and completeness score would be close to 1. \n",
    "'''"
   ]
  },
  {
   "cell_type": "markdown",
   "metadata": {},
   "source": [
    "### Split the data\n",
    "Split the original dataset (not the PCA) to have 30% test data"
   ]
  },
  {
   "cell_type": "code",
   "execution_count": 6,
   "metadata": {},
   "outputs": [],
   "source": [
    "from sklearn.model_selection import train_test_split\n",
    "X_train, X_test, y_train, y_test = train_test_split(x,y, random_state = 66, test_size = 0.3)"
   ]
  },
  {
   "cell_type": "markdown",
   "metadata": {},
   "source": [
    "### Logistic Regression\n",
    "Using LR, what is the accuracy, precision and recall and F1 score for the training and the test data? Plot the ROC curve"
   ]
  },
  {
   "cell_type": "code",
   "execution_count": 7,
   "metadata": {},
   "outputs": [
    {
     "name": "stdout",
     "output_type": "stream",
     "text": [
      "Training accuracy is 0.7635009310986964\n",
      "Test accuracy 0.7835497835497836\n",
      "              precision    recall  f1-score   support\n",
      "\n",
      "           0       0.82      0.88      0.85       160\n",
      "           1       0.68      0.56      0.62        71\n",
      "\n",
      "    accuracy                           0.78       231\n",
      "   macro avg       0.75      0.72      0.73       231\n",
      "weighted avg       0.78      0.78      0.78       231\n",
      "\n",
      "              precision    recall  f1-score   support\n",
      "\n",
      "           0       0.78      0.87      0.82       340\n",
      "           1       0.72      0.58      0.64       197\n",
      "\n",
      "    accuracy                           0.76       537\n",
      "   macro avg       0.75      0.73      0.73       537\n",
      "weighted avg       0.76      0.76      0.76       537\n",
      "\n"
     ]
    },
    {
     "name": "stderr",
     "output_type": "stream",
     "text": [
      "/Users/fjacobo/opt/anaconda3/lib/python3.7/site-packages/sklearn/linear_model/logistic.py:432: FutureWarning: Default solver will be changed to 'lbfgs' in 0.22. Specify a solver to silence this warning.\n",
      "  FutureWarning)\n"
     ]
    },
    {
     "data": {
      "text/plain": [
       "Text(0.5, 1.0, 'ROC Curve')"
      ]
     },
     "execution_count": 7,
     "metadata": {},
     "output_type": "execute_result"
    },
    {
     "data": {
      "text/plain": [
       "[<matplotlib.lines.Line2D at 0x7fbeb86e5450>]"
      ]
     },
     "execution_count": 7,
     "metadata": {},
     "output_type": "execute_result"
    },
    {
     "data": {
      "image/png": "[encoded data removed]",
      "text/plain": [
       "<Figure size 432x288 with 1 Axes>"
      ]
     },
     "metadata": {
      "needs_background": "light"
     },
     "output_type": "display_data"
    }
   ],
   "source": [
    "from sklearn.metrics import precision_recall_fscore_support, classification_report\n",
    "from sklearn.linear_model import LogisticRegression\n",
    "logreg = LogisticRegression()\n",
    "\n",
    "model=logreg.fit(X_train, y_train)\n",
    "\n",
    "train_score = model.score(X_train, y_train)\n",
    "print(\"Training accuracy is\", train_score)\n",
    "\n",
    "test_score = model.score(X_test, y_test)\n",
    "print(\"Test accuracy\", test_score)\n",
    "\n",
    "pred_test = model.predict(X_test)\n",
    "pred_train = model.predict(X_train)\n",
    "\n",
    "print(classification_report(y_test, pred_test))\n",
    "print(classification_report(y_train, pred_train))\n",
    "\n",
    "# PLOT THE ROC CURVE\n",
    "prob_test = logreg.predict_proba(X_test)\n",
    "fpr, tpr, _ = metrics.roc_curve(y_test, prob_test[:,1])\n",
    "plt.title(\"ROC Curve\")\n",
    "plt.plot(fpr, tpr)"
   ]
  },
  {
   "cell_type": "markdown",
   "metadata": {},
   "source": [
    "Plot the test precision curve and accuracy curve for decision thresholds between 0.1 to 1 with a step of 0.1"
   ]
  },
  {
   "cell_type": "code",
   "execution_count": 8,
   "metadata": {},
   "outputs": [
    {
     "data": {
      "text/plain": [
       "[<matplotlib.lines.Line2D at 0x7fbea8364bd0>]"
      ]
     },
     "execution_count": 8,
     "metadata": {},
     "output_type": "execute_result"
    },
    {
     "data": {
      "text/plain": [
       "[<matplotlib.lines.Line2D at 0x7fbea8372210>]"
      ]
     },
     "execution_count": 8,
     "metadata": {},
     "output_type": "execute_result"
    },
    {
     "data": {
      "image/png": "[encoded data removed]",
      "text/plain": [
       "<Figure size 432x288 with 1 Axes>"
      ]
     },
     "metadata": {
      "needs_background": "light"
     },
     "output_type": "display_data"
    }
   ],
   "source": [
    "from sklearn import metrics \n",
    "import numpy as np \n",
    "threshold0 = np.linspace(0,0.9,100)\n",
    "prec_list = []\n",
    "acc_list = []\n",
    "\n",
    "for th in threshold0:\n",
    "    pred = prob_test[:,1] >= th \n",
    "    prec_list.append(metrics.precision_score (y_test, pred))\n",
    "    acc_list.append(metrics.accuracy_score(y_test, pred))\n",
    "plt.plot(threshold0, prec_list)\n",
    "plt.plot(threshold0, acc_list, c ='r')\n",
    "\n",
    "# Base on the plot below the model begins to overfit around 65%. "
   ]
  },
  {
   "cell_type": "markdown",
   "metadata": {},
   "source": [
    "## Deep Neural Networks\n",
    "Using Keras, build a DNN that has better accuracy than LR. What is the accuracy, precision and recall and F1 score for the training and the test data? Plot the ROC curve?"
   ]
  },
  {
   "cell_type": "code",
   "execution_count": 9,
   "metadata": {},
   "outputs": [],
   "source": [
    "from sklearn.preprocessing import StandardScaler\n",
    "import tensorflow as tf\n",
    "from tensorflow.keras import regularizers, layers, activations\n",
    "from tensorflow.keras import models \n",
    "from sklearn.metrics import precision_recall_fscore_support, classification_report\n",
    "\n",
    "scaler =  StandardScaler().fit(X_train)\n",
    "x_scaled_train = scaler.transform(X_train)\n",
    "x_scaled_test = scaler.transform(X_test)\n",
    "\n",
    "\n",
    "model = models.Sequential()\n",
    "model.add(layers.Dense(400, activation = \"relu\", input_dim = 8 ))\n",
    "model.add(layers.Dense(250, kernel_regularizer = regularizers.l2(0.001), activation= 'relu'))\n",
    "model.add(layers.Dropout(0.2))\n",
    "model.add(layers.Dense(90, kernel_regularizer = regularizers.l2(0.001), activation= 'relu'))\n",
    "model.add(layers.Dropout(0.2))\n",
    "model.add(layers.Dense(1,activation = \"sigmoid\"))\n",
    "\n",
    "model.compile(loss = \"binary_crossentropy\", optimizer=tf.keras.optimizers.Nadam(lr = 0.0000055), metrics= [\"accuracy\",\"Precision\", \"Recall\"])"
   ]
  },
  {
   "cell_type": "code",
   "execution_count": 10,
   "metadata": {},
   "outputs": [
    {
     "name": "stdout",
     "output_type": "stream",
     "text": [
      "Epoch 1/200\n",
      "WARNING:tensorflow:From /Users/fjacobo/opt/anaconda3/lib/python3.7/site-packages/tensorflow/python/ops/resource_variable_ops.py:1817: calling BaseResourceVariable.__init__ (from tensorflow.python.ops.resource_variable_ops) with constraint is deprecated and will be removed in a future version.\n",
      "Instructions for updating:\n",
      "If using Keras pass *_constraint arguments to layers.\n",
      "36/36 [==============================] - 0s 10ms/step - loss: 1.1372 - accuracy: 0.4879 - precision: 0.3402 - recall: 0.4213 - val_loss: 1.1304 - val_accuracy: 0.5455 - val_precision: 0.3365 - val_recall: 0.4930\n",
      "Epoch 2/200\n",
      "36/36 [==============================] - 0s 3ms/step - loss: 1.1335 - accuracy: 0.4935 - precision: 0.3333 - recall: 0.3807 - val_loss: 1.1250 - val_accuracy: 0.5801 - val_precision: 0.3617 - val_recall: 0.4789\n",
      "Epoch 3/200\n",
      "36/36 [==============================] - 0s 3ms/step - loss: 1.1256 - accuracy: 0.5438 - precision: 0.3879 - recall: 0.4213 - val_loss: 1.1200 - val_accuracy: 0.6407 - val_precision: 0.4302 - val_recall: 0.5211\n",
      "Epoch 4/200\n",
      "36/36 [==============================] - 0s 2ms/step - loss: 1.1269 - accuracy: 0.5717 - precision: 0.4118 - recall: 0.3909 - val_loss: 1.1147 - val_accuracy: 0.6883 - val_precision: 0.4930 - val_recall: 0.4930\n",
      "Epoch 5/200\n",
      "36/36 [==============================] - 0s 2ms/step - loss: 1.1204 - accuracy: 0.6201 - precision: 0.4788 - recall: 0.4010 - val_loss: 1.1096 - val_accuracy: 0.6970 - val_precision: 0.5075 - val_recall: 0.4789\n",
      "Epoch 6/200\n",
      "36/36 [==============================] - 0s 2ms/step - loss: 1.1113 - accuracy: 0.6574 - precision: 0.5468 - recall: 0.3858 - val_loss: 1.1047 - val_accuracy: 0.7100 - val_precision: 0.5333 - val_recall: 0.4507\n",
      "Epoch 7/200\n",
      "36/36 [==============================] - 0s 2ms/step - loss: 1.1087 - accuracy: 0.6648 - precision: 0.5620 - recall: 0.3909 - val_loss: 1.0999 - val_accuracy: 0.7186 - val_precision: 0.5556 - val_recall: 0.4225\n",
      "Epoch 8/200\n",
      "36/36 [==============================] - 0s 2ms/step - loss: 1.1026 - accuracy: 0.6797 - precision: 0.5912 - recall: 0.4112 - val_loss: 1.0949 - val_accuracy: 0.7229 - val_precision: 0.5660 - val_recall: 0.4225\n",
      "Epoch 9/200\n",
      "36/36 [==============================] - 0s 2ms/step - loss: 1.0991 - accuracy: 0.6853 - precision: 0.6250 - recall: 0.3553 - val_loss: 1.0901 - val_accuracy: 0.7359 - val_precision: 0.6042 - val_recall: 0.4085\n",
      "Epoch 10/200\n",
      "36/36 [==============================] - 0s 2ms/step - loss: 1.1001 - accuracy: 0.6946 - precision: 0.6486 - recall: 0.3655 - val_loss: 1.0853 - val_accuracy: 0.7403 - val_precision: 0.6170 - val_recall: 0.4085\n",
      "Epoch 11/200\n",
      "36/36 [==============================] - 0s 2ms/step - loss: 1.0951 - accuracy: 0.6946 - precision: 0.6542 - recall: 0.3553 - val_loss: 1.0806 - val_accuracy: 0.7446 - val_precision: 0.6304 - val_recall: 0.4085\n",
      "Epoch 12/200\n",
      "36/36 [==============================] - 0s 2ms/step - loss: 1.0913 - accuracy: 0.6816 - precision: 0.6140 - recall: 0.3553 - val_loss: 1.0759 - val_accuracy: 0.7316 - val_precision: 0.6047 - val_recall: 0.3662\n",
      "Epoch 13/200\n",
      "36/36 [==============================] - 0s 2ms/step - loss: 1.0866 - accuracy: 0.7020 - precision: 0.6609 - recall: 0.3858 - val_loss: 1.0713 - val_accuracy: 0.7359 - val_precision: 0.6190 - val_recall: 0.3662\n",
      "Epoch 14/200\n",
      "36/36 [==============================] - 0s 2ms/step - loss: 1.0823 - accuracy: 0.6927 - precision: 0.6333 - recall: 0.3858 - val_loss: 1.0669 - val_accuracy: 0.7446 - val_precision: 0.6429 - val_recall: 0.3803\n",
      "Epoch 15/200\n",
      "36/36 [==============================] - 0s 3ms/step - loss: 1.0778 - accuracy: 0.6909 - precision: 0.6566 - recall: 0.3299 - val_loss: 1.0625 - val_accuracy: 0.7532 - val_precision: 0.6591 - val_recall: 0.4085\n",
      "Epoch 16/200\n",
      "36/36 [==============================] - 0s 2ms/step - loss: 1.0718 - accuracy: 0.6927 - precision: 0.6481 - recall: 0.3553 - val_loss: 1.0580 - val_accuracy: 0.7576 - val_precision: 0.6744 - val_recall: 0.4085\n",
      "Epoch 17/200\n",
      "36/36 [==============================] - 0s 2ms/step - loss: 1.0687 - accuracy: 0.7076 - precision: 0.6923 - recall: 0.3655 - val_loss: 1.0535 - val_accuracy: 0.7576 - val_precision: 0.6744 - val_recall: 0.4085\n",
      "Epoch 18/200\n",
      "36/36 [==============================] - 0s 2ms/step - loss: 1.0669 - accuracy: 0.7114 - precision: 0.7059 - recall: 0.3655 - val_loss: 1.0490 - val_accuracy: 0.7749 - val_precision: 0.7436 - val_recall: 0.4085\n",
      "Epoch 19/200\n",
      "36/36 [==============================] - 0s 2ms/step - loss: 1.0596 - accuracy: 0.7188 - precision: 0.7347 - recall: 0.3655 - val_loss: 1.0447 - val_accuracy: 0.7706 - val_precision: 0.7250 - val_recall: 0.4085\n",
      "Epoch 20/200\n",
      "36/36 [==============================] - 0s 2ms/step - loss: 1.0569 - accuracy: 0.7337 - precision: 0.7455 - recall: 0.4162 - val_loss: 1.0404 - val_accuracy: 0.7706 - val_precision: 0.7250 - val_recall: 0.4085\n",
      "Epoch 21/200\n",
      "36/36 [==============================] - 0s 2ms/step - loss: 1.0523 - accuracy: 0.7318 - precision: 0.7431 - recall: 0.4112 - val_loss: 1.0361 - val_accuracy: 0.7749 - val_precision: 0.7436 - val_recall: 0.4085\n",
      "Epoch 22/200\n",
      "36/36 [==============================] - 0s 2ms/step - loss: 1.0489 - accuracy: 0.7337 - precision: 0.7547 - recall: 0.4061 - val_loss: 1.0321 - val_accuracy: 0.7792 - val_precision: 0.7500 - val_recall: 0.4225\n",
      "Epoch 23/200\n",
      "36/36 [==============================] - 0s 2ms/step - loss: 1.0449 - accuracy: 0.7244 - precision: 0.7290 - recall: 0.3959 - val_loss: 1.0278 - val_accuracy: 0.7835 - val_precision: 0.7692 - val_recall: 0.4225\n",
      "Epoch 24/200\n",
      "36/36 [==============================] - 0s 2ms/step - loss: 1.0444 - accuracy: 0.7337 - precision: 0.7547 - recall: 0.4061 - val_loss: 1.0239 - val_accuracy: 0.7835 - val_precision: 0.7561 - val_recall: 0.4366\n",
      "Epoch 25/200\n",
      "36/36 [==============================] - 0s 2ms/step - loss: 1.0350 - accuracy: 0.7318 - precision: 0.7431 - recall: 0.4112 - val_loss: 1.0196 - val_accuracy: 0.7835 - val_precision: 0.7561 - val_recall: 0.4366\n",
      "Epoch 26/200\n",
      "36/36 [==============================] - 0s 2ms/step - loss: 1.0349 - accuracy: 0.7132 - precision: 0.7009 - recall: 0.3807 - val_loss: 1.0156 - val_accuracy: 0.7835 - val_precision: 0.7561 - val_recall: 0.4366\n",
      "Epoch 27/200\n",
      "36/36 [==============================] - 0s 2ms/step - loss: 1.0272 - accuracy: 0.7393 - precision: 0.7436 - recall: 0.4416 - val_loss: 1.0116 - val_accuracy: 0.7879 - val_precision: 0.7619 - val_recall: 0.4507\n",
      "Epoch 28/200\n",
      "36/36 [==============================] - 0s 2ms/step - loss: 1.0263 - accuracy: 0.7281 - precision: 0.7179 - recall: 0.4264 - val_loss: 1.0075 - val_accuracy: 0.7835 - val_precision: 0.7442 - val_recall: 0.4507\n",
      "Epoch 29/200\n",
      "36/36 [==============================] - 0s 2ms/step - loss: 1.0235 - accuracy: 0.7579 - precision: 0.7815 - recall: 0.4721 - val_loss: 1.0037 - val_accuracy: 0.7879 - val_precision: 0.7500 - val_recall: 0.4648\n",
      "Epoch 30/200\n",
      "36/36 [==============================] - 0s 2ms/step - loss: 1.0174 - accuracy: 0.7356 - precision: 0.7273 - recall: 0.4467 - val_loss: 0.9996 - val_accuracy: 0.7879 - val_precision: 0.7500 - val_recall: 0.4648\n",
      "Epoch 31/200\n",
      "36/36 [==============================] - 0s 2ms/step - loss: 1.0173 - accuracy: 0.7300 - precision: 0.7321 - recall: 0.4162 - val_loss: 0.9959 - val_accuracy: 0.7922 - val_precision: 0.7556 - val_recall: 0.4789\n",
      "Epoch 32/200\n",
      "36/36 [==============================] - 0s 2ms/step - loss: 1.0094 - accuracy: 0.7430 - precision: 0.7479 - recall: 0.4518 - val_loss: 0.9922 - val_accuracy: 0.7922 - val_precision: 0.7556 - val_recall: 0.4789\n",
      "Epoch 33/200\n",
      "36/36 [==============================] - 0s 2ms/step - loss: 1.0075 - accuracy: 0.7486 - precision: 0.7627 - recall: 0.4569 - val_loss: 0.9886 - val_accuracy: 0.7922 - val_precision: 0.7556 - val_recall: 0.4789\n",
      "Epoch 34/200\n",
      "36/36 [==============================] - 0s 2ms/step - loss: 1.0060 - accuracy: 0.7318 - precision: 0.7227 - recall: 0.4365 - val_loss: 0.9849 - val_accuracy: 0.7922 - val_precision: 0.7556 - val_recall: 0.4789\n",
      "Epoch 35/200\n",
      "36/36 [==============================] - 0s 3ms/step - loss: 1.0012 - accuracy: 0.7412 - precision: 0.7458 - recall: 0.4467 - val_loss: 0.9815 - val_accuracy: 0.7922 - val_precision: 0.7556 - val_recall: 0.4789\n",
      "Epoch 36/200\n",
      "36/36 [==============================] - 0s 2ms/step - loss: 0.9909 - accuracy: 0.7561 - precision: 0.7750 - recall: 0.4721 - val_loss: 0.9779 - val_accuracy: 0.7922 - val_precision: 0.7556 - val_recall: 0.4789\n",
      "Epoch 37/200\n",
      "36/36 [==============================] - 0s 3ms/step - loss: 0.9919 - accuracy: 0.7654 - precision: 0.7630 - recall: 0.5228 - val_loss: 0.9743 - val_accuracy: 0.7922 - val_precision: 0.7556 - val_recall: 0.4789\n",
      "Epoch 38/200\n",
      "36/36 [==============================] - 0s 2ms/step - loss: 0.9895 - accuracy: 0.7393 - precision: 0.7244 - recall: 0.4670 - val_loss: 0.9709 - val_accuracy: 0.7965 - val_precision: 0.7609 - val_recall: 0.4930\n",
      "Epoch 39/200\n",
      "36/36 [==============================] - 0s 3ms/step - loss: 0.9904 - accuracy: 0.7412 - precision: 0.7266 - recall: 0.4721 - val_loss: 0.9678 - val_accuracy: 0.7965 - val_precision: 0.7609 - val_recall: 0.4930\n",
      "Epoch 40/200\n",
      "36/36 [==============================] - 0s 2ms/step - loss: 0.9842 - accuracy: 0.7356 - precision: 0.7132 - recall: 0.4670 - val_loss: 0.9647 - val_accuracy: 0.7922 - val_precision: 0.7447 - val_recall: 0.4930\n",
      "Epoch 41/200\n",
      "36/36 [==============================] - 0s 2ms/step - loss: 0.9807 - accuracy: 0.7374 - precision: 0.7258 - recall: 0.4569 - val_loss: 0.9616 - val_accuracy: 0.7922 - val_precision: 0.7447 - val_recall: 0.4930\n",
      "Epoch 42/200\n",
      "36/36 [==============================] - 0s 2ms/step - loss: 0.9739 - accuracy: 0.7561 - precision: 0.7661 - recall: 0.4822 - val_loss: 0.9587 - val_accuracy: 0.7965 - val_precision: 0.7500 - val_recall: 0.5070\n",
      "Epoch 43/200\n",
      "36/36 [==============================] - 0s 2ms/step - loss: 0.9736 - accuracy: 0.7430 - precision: 0.7218 - recall: 0.4873 - val_loss: 0.9555 - val_accuracy: 0.7965 - val_precision: 0.7500 - val_recall: 0.5070\n",
      "Epoch 44/200\n",
      "36/36 [==============================] - 0s 2ms/step - loss: 0.9724 - accuracy: 0.7486 - precision: 0.7385 - recall: 0.4873 - val_loss: 0.9526 - val_accuracy: 0.7965 - val_precision: 0.7500 - val_recall: 0.5070\n",
      "Epoch 45/200\n",
      "36/36 [==============================] - 0s 3ms/step - loss: 0.9670 - accuracy: 0.7449 - precision: 0.7381 - recall: 0.4721 - val_loss: 0.9497 - val_accuracy: 0.7965 - val_precision: 0.7500 - val_recall: 0.5070\n",
      "Epoch 46/200\n",
      "36/36 [==============================] - 0s 2ms/step - loss: 0.9678 - accuracy: 0.7616 - precision: 0.7594 - recall: 0.5127 - val_loss: 0.9469 - val_accuracy: 0.7965 - val_precision: 0.7500 - val_recall: 0.5070\n",
      "Epoch 47/200\n",
      "36/36 [==============================] - 0s 2ms/step - loss: 0.9613 - accuracy: 0.7579 - precision: 0.7557 - recall: 0.5025 - val_loss: 0.9442 - val_accuracy: 0.8009 - val_precision: 0.7551 - val_recall: 0.5211\n",
      "Epoch 48/200\n",
      "36/36 [==============================] - 0s 2ms/step - loss: 0.9628 - accuracy: 0.7486 - precision: 0.7385 - recall: 0.4873 - val_loss: 0.9416 - val_accuracy: 0.8009 - val_precision: 0.7551 - val_recall: 0.5211\n",
      "Epoch 49/200\n",
      "36/36 [==============================] - 0s 2ms/step - loss: 0.9625 - accuracy: 0.7449 - precision: 0.7143 - recall: 0.5076 - val_loss: 0.9392 - val_accuracy: 0.8009 - val_precision: 0.7551 - val_recall: 0.5211\n",
      "Epoch 50/200\n",
      "36/36 [==============================] - 0s 2ms/step - loss: 0.9550 - accuracy: 0.7486 - precision: 0.7214 - recall: 0.5127 - val_loss: 0.9366 - val_accuracy: 0.8009 - val_precision: 0.7551 - val_recall: 0.5211\n",
      "Epoch 51/200\n",
      "36/36 [==============================] - 0s 2ms/step - loss: 0.9510 - accuracy: 0.7635 - precision: 0.7536 - recall: 0.5279 - val_loss: 0.9340 - val_accuracy: 0.8009 - val_precision: 0.7551 - val_recall: 0.5211\n",
      "Epoch 52/200\n",
      "36/36 [==============================] - 0s 2ms/step - loss: 0.9496 - accuracy: 0.7635 - precision: 0.7397 - recall: 0.5482 - val_loss: 0.9317 - val_accuracy: 0.8009 - val_precision: 0.7451 - val_recall: 0.5352\n",
      "Epoch 53/200\n",
      "36/36 [==============================] - 0s 2ms/step - loss: 0.9407 - accuracy: 0.7654 - precision: 0.7448 - recall: 0.5482 - val_loss: 0.9293 - val_accuracy: 0.7965 - val_precision: 0.7308 - val_recall: 0.5352\n",
      "Epoch 54/200\n",
      "36/36 [==============================] - 0s 2ms/step - loss: 0.9426 - accuracy: 0.7579 - precision: 0.7190 - recall: 0.5584 - val_loss: 0.9271 - val_accuracy: 0.7922 - val_precision: 0.7170 - val_recall: 0.5352\n",
      "Epoch 55/200\n",
      "36/36 [==============================] - 0s 3ms/step - loss: 0.9396 - accuracy: 0.7709 - precision: 0.7643 - recall: 0.5431 - val_loss: 0.9248 - val_accuracy: 0.7922 - val_precision: 0.7170 - val_recall: 0.5352\n",
      "Epoch 56/200\n",
      "36/36 [==============================] - 0s 2ms/step - loss: 0.9360 - accuracy: 0.7709 - precision: 0.7569 - recall: 0.5533 - val_loss: 0.9226 - val_accuracy: 0.7922 - val_precision: 0.7170 - val_recall: 0.5352\n",
      "Epoch 57/200\n",
      "36/36 [==============================] - 0s 2ms/step - loss: 0.9289 - accuracy: 0.7654 - precision: 0.7518 - recall: 0.5381 - val_loss: 0.9205 - val_accuracy: 0.7922 - val_precision: 0.7170 - val_recall: 0.5352\n",
      "Epoch 58/200\n",
      "36/36 [==============================] - 0s 2ms/step - loss: 0.9305 - accuracy: 0.7654 - precision: 0.7290 - recall: 0.5736 - val_loss: 0.9184 - val_accuracy: 0.7922 - val_precision: 0.7170 - val_recall: 0.5352\n",
      "Epoch 59/200\n",
      "36/36 [==============================] - 0s 2ms/step - loss: 0.9276 - accuracy: 0.7765 - precision: 0.7730 - recall: 0.5533 - val_loss: 0.9165 - val_accuracy: 0.7922 - val_precision: 0.7170 - val_recall: 0.5352\n",
      "Epoch 60/200\n",
      "36/36 [==============================] - 0s 2ms/step - loss: 0.9255 - accuracy: 0.7728 - precision: 0.7551 - recall: 0.5635 - val_loss: 0.9144 - val_accuracy: 0.7922 - val_precision: 0.7170 - val_recall: 0.5352\n",
      "Epoch 61/200\n",
      "36/36 [==============================] - 0s 2ms/step - loss: 0.9209 - accuracy: 0.7672 - precision: 0.7400 - recall: 0.5635 - val_loss: 0.9125 - val_accuracy: 0.7879 - val_precision: 0.7037 - val_recall: 0.5352\n",
      "Epoch 62/200\n",
      "36/36 [==============================] - 0s 2ms/step - loss: 0.9200 - accuracy: 0.7691 - precision: 0.7483 - recall: 0.5584 - val_loss: 0.9105 - val_accuracy: 0.7879 - val_precision: 0.7037 - val_recall: 0.5352\n",
      "Epoch 63/200\n",
      "36/36 [==============================] - 0s 2ms/step - loss: 0.9205 - accuracy: 0.7635 - precision: 0.7303 - recall: 0.5635 - val_loss: 0.9087 - val_accuracy: 0.7879 - val_precision: 0.7037 - val_recall: 0.5352\n",
      "Epoch 64/200\n",
      "36/36 [==============================] - 0s 3ms/step - loss: 0.9259 - accuracy: 0.7635 - precision: 0.7333 - recall: 0.5584 - val_loss: 0.9070 - val_accuracy: 0.7879 - val_precision: 0.7037 - val_recall: 0.5352\n",
      "Epoch 65/200\n",
      "36/36 [==============================] - 0s 2ms/step - loss: 0.9146 - accuracy: 0.7672 - precision: 0.7338 - recall: 0.5736 - val_loss: 0.9055 - val_accuracy: 0.7879 - val_precision: 0.7037 - val_recall: 0.5352\n",
      "Epoch 66/200\n",
      "36/36 [==============================] - 0s 2ms/step - loss: 0.9199 - accuracy: 0.7672 - precision: 0.7250 - recall: 0.5888 - val_loss: 0.9038 - val_accuracy: 0.7879 - val_precision: 0.7037 - val_recall: 0.5352\n",
      "Epoch 67/200\n",
      "36/36 [==============================] - 0s 3ms/step - loss: 0.9128 - accuracy: 0.7747 - precision: 0.7436 - recall: 0.5888 - val_loss: 0.9022 - val_accuracy: 0.7879 - val_precision: 0.7037 - val_recall: 0.5352\n",
      "Epoch 68/200\n",
      "36/36 [==============================] - 0s 2ms/step - loss: 0.9068 - accuracy: 0.7728 - precision: 0.7329 - recall: 0.5990 - val_loss: 0.9007 - val_accuracy: 0.7879 - val_precision: 0.7037 - val_recall: 0.5352\n",
      "Epoch 69/200\n",
      "36/36 [==============================] - 0s 3ms/step - loss: 0.9107 - accuracy: 0.7616 - precision: 0.7197 - recall: 0.5736 - val_loss: 0.8991 - val_accuracy: 0.7922 - val_precision: 0.7091 - val_recall: 0.5493\n",
      "Epoch 70/200\n",
      "36/36 [==============================] - 0s 2ms/step - loss: 0.9113 - accuracy: 0.7561 - precision: 0.7230 - recall: 0.5431 - val_loss: 0.8977 - val_accuracy: 0.7879 - val_precision: 0.6964 - val_recall: 0.5493\n",
      "Epoch 71/200\n",
      "36/36 [==============================] - 0s 3ms/step - loss: 0.9045 - accuracy: 0.7635 - precision: 0.7244 - recall: 0.5736 - val_loss: 0.8963 - val_accuracy: 0.7879 - val_precision: 0.6964 - val_recall: 0.5493\n",
      "Epoch 72/200\n",
      "36/36 [==============================] - 0s 2ms/step - loss: 0.9007 - accuracy: 0.7654 - precision: 0.7205 - recall: 0.5888 - val_loss: 0.8948 - val_accuracy: 0.7879 - val_precision: 0.6964 - val_recall: 0.5493\n",
      "Epoch 73/200\n",
      "36/36 [==============================] - 0s 5ms/step - loss: 0.8988 - accuracy: 0.7784 - precision: 0.7532 - recall: 0.5888 - val_loss: 0.8934 - val_accuracy: 0.7922 - val_precision: 0.7091 - val_recall: 0.5493\n",
      "Epoch 74/200\n",
      "36/36 [==============================] - 0s 2ms/step - loss: 0.8987 - accuracy: 0.7561 - precision: 0.7115 - recall: 0.5635 - val_loss: 0.8922 - val_accuracy: 0.7879 - val_precision: 0.6964 - val_recall: 0.5493\n",
      "Epoch 75/200\n",
      "36/36 [==============================] - 0s 3ms/step - loss: 0.8951 - accuracy: 0.7709 - precision: 0.7372 - recall: 0.5838 - val_loss: 0.8908 - val_accuracy: 0.7922 - val_precision: 0.7018 - val_recall: 0.5634\n",
      "Epoch 76/200\n",
      "36/36 [==============================] - 0s 2ms/step - loss: 0.8986 - accuracy: 0.7728 - precision: 0.7301 - recall: 0.6041 - val_loss: 0.8896 - val_accuracy: 0.7879 - val_precision: 0.6897 - val_recall: 0.5634\n",
      "Epoch 77/200\n",
      "36/36 [==============================] - 0s 2ms/step - loss: 0.8968 - accuracy: 0.7728 - precision: 0.7483 - recall: 0.5736 - val_loss: 0.8884 - val_accuracy: 0.7879 - val_precision: 0.6897 - val_recall: 0.5634\n",
      "Epoch 78/200\n",
      "36/36 [==============================] - 0s 2ms/step - loss: 0.8908 - accuracy: 0.7709 - precision: 0.7229 - recall: 0.6091 - val_loss: 0.8872 - val_accuracy: 0.7879 - val_precision: 0.6897 - val_recall: 0.5634\n",
      "Epoch 79/200\n",
      "36/36 [==============================] - 0s 3ms/step - loss: 0.8910 - accuracy: 0.7691 - precision: 0.7296 - recall: 0.5888 - val_loss: 0.8861 - val_accuracy: 0.7879 - val_precision: 0.6897 - val_recall: 0.5634\n",
      "Epoch 80/200\n",
      "36/36 [==============================] - 0s 2ms/step - loss: 0.8885 - accuracy: 0.7616 - precision: 0.7143 - recall: 0.5838 - val_loss: 0.8848 - val_accuracy: 0.7879 - val_precision: 0.6897 - val_recall: 0.5634\n",
      "Epoch 81/200\n",
      "36/36 [==============================] - 0s 3ms/step - loss: 0.8968 - accuracy: 0.7709 - precision: 0.7284 - recall: 0.5990 - val_loss: 0.8838 - val_accuracy: 0.7879 - val_precision: 0.6897 - val_recall: 0.5634\n",
      "Epoch 82/200\n",
      "36/36 [==============================] - 0s 2ms/step - loss: 0.8896 - accuracy: 0.7635 - precision: 0.7134 - recall: 0.5939 - val_loss: 0.8827 - val_accuracy: 0.7879 - val_precision: 0.6897 - val_recall: 0.5634\n",
      "Epoch 83/200\n",
      "36/36 [==============================] - 0s 3ms/step - loss: 0.8848 - accuracy: 0.7784 - precision: 0.7500 - recall: 0.5939 - val_loss: 0.8817 - val_accuracy: 0.7879 - val_precision: 0.6897 - val_recall: 0.5634\n",
      "Epoch 84/200\n",
      "36/36 [==============================] - 0s 2ms/step - loss: 0.8891 - accuracy: 0.7598 - precision: 0.7024 - recall: 0.5990 - val_loss: 0.8806 - val_accuracy: 0.7879 - val_precision: 0.6897 - val_recall: 0.5634\n",
      "Epoch 85/200\n",
      "36/36 [==============================] - 0s 2ms/step - loss: 0.8865 - accuracy: 0.7709 - precision: 0.7403 - recall: 0.5787 - val_loss: 0.8796 - val_accuracy: 0.7879 - val_precision: 0.6897 - val_recall: 0.5634\n",
      "Epoch 86/200\n",
      "36/36 [==============================] - 0s 3ms/step - loss: 0.8830 - accuracy: 0.7672 - precision: 0.7222 - recall: 0.5939 - val_loss: 0.8786 - val_accuracy: 0.7879 - val_precision: 0.6897 - val_recall: 0.5634\n",
      "Epoch 87/200\n",
      "36/36 [==============================] - 0s 3ms/step - loss: 0.8795 - accuracy: 0.7579 - precision: 0.7006 - recall: 0.5939 - val_loss: 0.8777 - val_accuracy: 0.7879 - val_precision: 0.6897 - val_recall: 0.5634\n",
      "Epoch 88/200\n",
      "36/36 [==============================] - 0s 3ms/step - loss: 0.8786 - accuracy: 0.7803 - precision: 0.7453 - recall: 0.6091 - val_loss: 0.8768 - val_accuracy: 0.7879 - val_precision: 0.6897 - val_recall: 0.5634\n",
      "Epoch 89/200\n",
      "36/36 [==============================] - 0s 3ms/step - loss: 0.8768 - accuracy: 0.7672 - precision: 0.7222 - recall: 0.5939 - val_loss: 0.8759 - val_accuracy: 0.7879 - val_precision: 0.6897 - val_recall: 0.5634\n",
      "Epoch 90/200\n",
      "36/36 [==============================] - 0s 3ms/step - loss: 0.8729 - accuracy: 0.7728 - precision: 0.7273 - recall: 0.6091 - val_loss: 0.8750 - val_accuracy: 0.7879 - val_precision: 0.6897 - val_recall: 0.5634\n",
      "Epoch 91/200\n",
      "36/36 [==============================] - 0s 2ms/step - loss: 0.8701 - accuracy: 0.7654 - precision: 0.7101 - recall: 0.6091 - val_loss: 0.8740 - val_accuracy: 0.7879 - val_precision: 0.6897 - val_recall: 0.5634\n",
      "Epoch 92/200\n",
      "36/36 [==============================] - 0s 2ms/step - loss: 0.8821 - accuracy: 0.7728 - precision: 0.7329 - recall: 0.5990 - val_loss: 0.8734 - val_accuracy: 0.7879 - val_precision: 0.6897 - val_recall: 0.5634\n",
      "Epoch 93/200\n",
      "36/36 [==============================] - 0s 2ms/step - loss: 0.8672 - accuracy: 0.7877 - precision: 0.7546 - recall: 0.6244 - val_loss: 0.8725 - val_accuracy: 0.7879 - val_precision: 0.6897 - val_recall: 0.5634\n",
      "Epoch 94/200\n",
      "36/36 [==============================] - 0s 2ms/step - loss: 0.8627 - accuracy: 0.7821 - precision: 0.7500 - recall: 0.6091 - val_loss: 0.8716 - val_accuracy: 0.7879 - val_precision: 0.6897 - val_recall: 0.5634\n",
      "Epoch 95/200\n",
      "36/36 [==============================] - 0s 2ms/step - loss: 0.8687 - accuracy: 0.7709 - precision: 0.7312 - recall: 0.5939 - val_loss: 0.8709 - val_accuracy: 0.7879 - val_precision: 0.6897 - val_recall: 0.5634\n",
      "Epoch 96/200\n",
      "36/36 [==============================] - 0s 2ms/step - loss: 0.8691 - accuracy: 0.7672 - precision: 0.7278 - recall: 0.5838 - val_loss: 0.8701 - val_accuracy: 0.7879 - val_precision: 0.6897 - val_recall: 0.5634\n",
      "Epoch 97/200\n",
      "36/36 [==============================] - 0s 2ms/step - loss: 0.8664 - accuracy: 0.7728 - precision: 0.7301 - recall: 0.6041 - val_loss: 0.8694 - val_accuracy: 0.7879 - val_precision: 0.6897 - val_recall: 0.5634\n",
      "Epoch 98/200\n",
      "36/36 [==============================] - 0s 2ms/step - loss: 0.8686 - accuracy: 0.7747 - precision: 0.7289 - recall: 0.6142 - val_loss: 0.8688 - val_accuracy: 0.7879 - val_precision: 0.6897 - val_recall: 0.5634\n",
      "Epoch 99/200\n",
      "36/36 [==============================] - 0s 3ms/step - loss: 0.8619 - accuracy: 0.7914 - precision: 0.7576 - recall: 0.6345 - val_loss: 0.8681 - val_accuracy: 0.7879 - val_precision: 0.6897 - val_recall: 0.5634\n",
      "Epoch 100/200\n",
      "36/36 [==============================] - 0s 2ms/step - loss: 0.8638 - accuracy: 0.7803 - precision: 0.7423 - recall: 0.6142 - val_loss: 0.8675 - val_accuracy: 0.7879 - val_precision: 0.6897 - val_recall: 0.5634\n",
      "Epoch 101/200\n",
      "36/36 [==============================] - 0s 2ms/step - loss: 0.8620 - accuracy: 0.7654 - precision: 0.7126 - recall: 0.6041 - val_loss: 0.8667 - val_accuracy: 0.7879 - val_precision: 0.6897 - val_recall: 0.5634\n",
      "Epoch 102/200\n",
      "36/36 [==============================] - 0s 2ms/step - loss: 0.8596 - accuracy: 0.7803 - precision: 0.7365 - recall: 0.6244 - val_loss: 0.8662 - val_accuracy: 0.7879 - val_precision: 0.6897 - val_recall: 0.5634\n",
      "Epoch 103/200\n",
      "36/36 [==============================] - 0s 2ms/step - loss: 0.8619 - accuracy: 0.7654 - precision: 0.7126 - recall: 0.6041 - val_loss: 0.8657 - val_accuracy: 0.7879 - val_precision: 0.6897 - val_recall: 0.5634\n",
      "Epoch 104/200\n",
      "36/36 [==============================] - 0s 2ms/step - loss: 0.8567 - accuracy: 0.7691 - precision: 0.7212 - recall: 0.6041 - val_loss: 0.8650 - val_accuracy: 0.7879 - val_precision: 0.6897 - val_recall: 0.5634\n",
      "Epoch 105/200\n",
      "36/36 [==============================] - 0s 2ms/step - loss: 0.8606 - accuracy: 0.7765 - precision: 0.7452 - recall: 0.5939 - val_loss: 0.8643 - val_accuracy: 0.7879 - val_precision: 0.6833 - val_recall: 0.5775\n",
      "Epoch 106/200\n",
      "36/36 [==============================] - 0s 2ms/step - loss: 0.8515 - accuracy: 0.7709 - precision: 0.7176 - recall: 0.6193 - val_loss: 0.8637 - val_accuracy: 0.7879 - val_precision: 0.6833 - val_recall: 0.5775\n",
      "Epoch 107/200\n",
      "36/36 [==============================] - 0s 2ms/step - loss: 0.8584 - accuracy: 0.7747 - precision: 0.7262 - recall: 0.6193 - val_loss: 0.8632 - val_accuracy: 0.7835 - val_precision: 0.6721 - val_recall: 0.5775\n",
      "Epoch 108/200\n",
      "36/36 [==============================] - 0s 2ms/step - loss: 0.8583 - accuracy: 0.7654 - precision: 0.7076 - recall: 0.6142 - val_loss: 0.8625 - val_accuracy: 0.7835 - val_precision: 0.6721 - val_recall: 0.5775\n",
      "Epoch 109/200\n",
      "36/36 [==============================] - 0s 2ms/step - loss: 0.8585 - accuracy: 0.7821 - precision: 0.7410 - recall: 0.6244 - val_loss: 0.8620 - val_accuracy: 0.7835 - val_precision: 0.6721 - val_recall: 0.5775\n",
      "Epoch 110/200\n",
      "36/36 [==============================] - 0s 2ms/step - loss: 0.8583 - accuracy: 0.7672 - precision: 0.7045 - recall: 0.6294 - val_loss: 0.8614 - val_accuracy: 0.7835 - val_precision: 0.6721 - val_recall: 0.5775\n",
      "Epoch 111/200\n",
      "36/36 [==============================] - 0s 2ms/step - loss: 0.8481 - accuracy: 0.7803 - precision: 0.7423 - recall: 0.6142 - val_loss: 0.8607 - val_accuracy: 0.7835 - val_precision: 0.6721 - val_recall: 0.5775\n",
      "Epoch 112/200\n",
      "36/36 [==============================] - 0s 2ms/step - loss: 0.8586 - accuracy: 0.7709 - precision: 0.7284 - recall: 0.5990 - val_loss: 0.8603 - val_accuracy: 0.7835 - val_precision: 0.6721 - val_recall: 0.5775\n",
      "Epoch 113/200\n",
      "36/36 [==============================] - 0s 2ms/step - loss: 0.8509 - accuracy: 0.7821 - precision: 0.7326 - recall: 0.6396 - val_loss: 0.8598 - val_accuracy: 0.7835 - val_precision: 0.6721 - val_recall: 0.5775\n",
      "Epoch 114/200\n",
      "36/36 [==============================] - 0s 2ms/step - loss: 0.8499 - accuracy: 0.7672 - precision: 0.7093 - recall: 0.6193 - val_loss: 0.8592 - val_accuracy: 0.7835 - val_precision: 0.6721 - val_recall: 0.5775\n",
      "Epoch 115/200\n",
      "36/36 [==============================] - 0s 2ms/step - loss: 0.8482 - accuracy: 0.7709 - precision: 0.7229 - recall: 0.6091 - val_loss: 0.8586 - val_accuracy: 0.7835 - val_precision: 0.6721 - val_recall: 0.5775\n",
      "Epoch 116/200\n",
      "36/36 [==============================] - 0s 2ms/step - loss: 0.8524 - accuracy: 0.7728 - precision: 0.7246 - recall: 0.6142 - val_loss: 0.8582 - val_accuracy: 0.7835 - val_precision: 0.6721 - val_recall: 0.5775\n",
      "Epoch 117/200\n",
      "36/36 [==============================] - 0s 3ms/step - loss: 0.8473 - accuracy: 0.7728 - precision: 0.7193 - recall: 0.6244 - val_loss: 0.8578 - val_accuracy: 0.7835 - val_precision: 0.6721 - val_recall: 0.5775\n",
      "Epoch 118/200\n",
      "36/36 [==============================] - 0s 2ms/step - loss: 0.8456 - accuracy: 0.7803 - precision: 0.7337 - recall: 0.6294 - val_loss: 0.8574 - val_accuracy: 0.7835 - val_precision: 0.6721 - val_recall: 0.5775\n",
      "Epoch 119/200\n",
      "36/36 [==============================] - 0s 2ms/step - loss: 0.8503 - accuracy: 0.7709 - precision: 0.7202 - recall: 0.6142 - val_loss: 0.8568 - val_accuracy: 0.7835 - val_precision: 0.6721 - val_recall: 0.5775\n",
      "Epoch 120/200\n",
      "36/36 [==============================] - 0s 2ms/step - loss: 0.8457 - accuracy: 0.7803 - precision: 0.7257 - recall: 0.6447 - val_loss: 0.8564 - val_accuracy: 0.7835 - val_precision: 0.6721 - val_recall: 0.5775\n",
      "Epoch 121/200\n",
      "36/36 [==============================] - 0s 2ms/step - loss: 0.8418 - accuracy: 0.7784 - precision: 0.7349 - recall: 0.6193 - val_loss: 0.8559 - val_accuracy: 0.7835 - val_precision: 0.6721 - val_recall: 0.5775\n",
      "Epoch 122/200\n",
      "36/36 [==============================] - 0s 2ms/step - loss: 0.8382 - accuracy: 0.7709 - precision: 0.7229 - recall: 0.6091 - val_loss: 0.8554 - val_accuracy: 0.7879 - val_precision: 0.6833 - val_recall: 0.5775\n",
      "Epoch 123/200\n",
      "36/36 [==============================] - 0s 2ms/step - loss: 0.8503 - accuracy: 0.7747 - precision: 0.7209 - recall: 0.6294 - val_loss: 0.8550 - val_accuracy: 0.7879 - val_precision: 0.6833 - val_recall: 0.5775\n",
      "Epoch 124/200\n",
      "36/36 [==============================] - 0s 2ms/step - loss: 0.8439 - accuracy: 0.7709 - precision: 0.7202 - recall: 0.6142 - val_loss: 0.8546 - val_accuracy: 0.7879 - val_precision: 0.6833 - val_recall: 0.5775\n",
      "Epoch 125/200\n",
      "36/36 [==============================] - 0s 2ms/step - loss: 0.8397 - accuracy: 0.7803 - precision: 0.7394 - recall: 0.6193 - val_loss: 0.8542 - val_accuracy: 0.7879 - val_precision: 0.6833 - val_recall: 0.5775\n",
      "Epoch 126/200\n",
      "36/36 [==============================] - 0s 2ms/step - loss: 0.8372 - accuracy: 0.7728 - precision: 0.7219 - recall: 0.6193 - val_loss: 0.8537 - val_accuracy: 0.7879 - val_precision: 0.6833 - val_recall: 0.5775\n",
      "Epoch 127/200\n",
      "36/36 [==============================] - 0s 2ms/step - loss: 0.8387 - accuracy: 0.7803 - precision: 0.7257 - recall: 0.6447 - val_loss: 0.8533 - val_accuracy: 0.7879 - val_precision: 0.6833 - val_recall: 0.5775\n",
      "Epoch 128/200\n",
      "36/36 [==============================] - 0s 2ms/step - loss: 0.8384 - accuracy: 0.7765 - precision: 0.7200 - recall: 0.6396 - val_loss: 0.8529 - val_accuracy: 0.7879 - val_precision: 0.6833 - val_recall: 0.5775\n",
      "Epoch 129/200\n",
      "36/36 [==============================] - 0s 2ms/step - loss: 0.8316 - accuracy: 0.7747 - precision: 0.7317 - recall: 0.6091 - val_loss: 0.8525 - val_accuracy: 0.7879 - val_precision: 0.6833 - val_recall: 0.5775\n",
      "Epoch 130/200\n",
      "36/36 [==============================] - 0s 2ms/step - loss: 0.8282 - accuracy: 0.7765 - precision: 0.7305 - recall: 0.6193 - val_loss: 0.8522 - val_accuracy: 0.7879 - val_precision: 0.6833 - val_recall: 0.5775\n",
      "Epoch 131/200\n",
      "36/36 [==============================] - 0s 2ms/step - loss: 0.8269 - accuracy: 0.7803 - precision: 0.7257 - recall: 0.6447 - val_loss: 0.8516 - val_accuracy: 0.7879 - val_precision: 0.6833 - val_recall: 0.5775\n",
      "Epoch 132/200\n",
      "36/36 [==============================] - 0s 2ms/step - loss: 0.8283 - accuracy: 0.7821 - precision: 0.7353 - recall: 0.6345 - val_loss: 0.8512 - val_accuracy: 0.7879 - val_precision: 0.6833 - val_recall: 0.5775\n",
      "Epoch 133/200\n",
      "36/36 [==============================] - 0s 2ms/step - loss: 0.8354 - accuracy: 0.7747 - precision: 0.7289 - recall: 0.6142 - val_loss: 0.8509 - val_accuracy: 0.7879 - val_precision: 0.6833 - val_recall: 0.5775\n",
      "Epoch 134/200\n",
      "36/36 [==============================] - 0s 2ms/step - loss: 0.8296 - accuracy: 0.7821 - precision: 0.7410 - recall: 0.6244 - val_loss: 0.8505 - val_accuracy: 0.7879 - val_precision: 0.6833 - val_recall: 0.5775\n",
      "Epoch 135/200\n",
      "36/36 [==============================] - 0s 2ms/step - loss: 0.8316 - accuracy: 0.7803 - precision: 0.7257 - recall: 0.6447 - val_loss: 0.8501 - val_accuracy: 0.7879 - val_precision: 0.6833 - val_recall: 0.5775\n",
      "Epoch 136/200\n",
      "36/36 [==============================] - 0s 2ms/step - loss: 0.8311 - accuracy: 0.7803 - precision: 0.7207 - recall: 0.6548 - val_loss: 0.8497 - val_accuracy: 0.7922 - val_precision: 0.6949 - val_recall: 0.5775\n",
      "Epoch 137/200\n",
      "36/36 [==============================] - 0s 2ms/step - loss: 0.8249 - accuracy: 0.7765 - precision: 0.7151 - recall: 0.6497 - val_loss: 0.8493 - val_accuracy: 0.7922 - val_precision: 0.6949 - val_recall: 0.5775\n",
      "Epoch 138/200\n",
      "36/36 [==============================] - 0s 3ms/step - loss: 0.8251 - accuracy: 0.7598 - precision: 0.6932 - recall: 0.6193 - val_loss: 0.8490 - val_accuracy: 0.7965 - val_precision: 0.7000 - val_recall: 0.5915\n",
      "Epoch 139/200\n",
      "36/36 [==============================] - 0s 2ms/step - loss: 0.8261 - accuracy: 0.7858 - precision: 0.7384 - recall: 0.6447 - val_loss: 0.8486 - val_accuracy: 0.7965 - val_precision: 0.7000 - val_recall: 0.5915\n",
      "Epoch 140/200\n",
      "36/36 [==============================] - 0s 2ms/step - loss: 0.8348 - accuracy: 0.7896 - precision: 0.7471 - recall: 0.6447 - val_loss: 0.8484 - val_accuracy: 0.7965 - val_precision: 0.7000 - val_recall: 0.5915\n",
      "Epoch 141/200\n",
      "36/36 [==============================] - 0s 2ms/step - loss: 0.8266 - accuracy: 0.7877 - precision: 0.7427 - recall: 0.6447 - val_loss: 0.8480 - val_accuracy: 0.7965 - val_precision: 0.7000 - val_recall: 0.5915\n",
      "Epoch 142/200\n",
      "36/36 [==============================] - 0s 2ms/step - loss: 0.8214 - accuracy: 0.7840 - precision: 0.7314 - recall: 0.6497 - val_loss: 0.8477 - val_accuracy: 0.7965 - val_precision: 0.7000 - val_recall: 0.5915\n",
      "Epoch 143/200\n",
      "36/36 [==============================] - 0s 2ms/step - loss: 0.8270 - accuracy: 0.7784 - precision: 0.7241 - recall: 0.6396 - val_loss: 0.8473 - val_accuracy: 0.7965 - val_precision: 0.7000 - val_recall: 0.5915\n",
      "Epoch 144/200\n",
      "36/36 [==============================] - 0s 2ms/step - loss: 0.8293 - accuracy: 0.7728 - precision: 0.7193 - recall: 0.6244 - val_loss: 0.8469 - val_accuracy: 0.7965 - val_precision: 0.7000 - val_recall: 0.5915\n",
      "Epoch 145/200\n",
      "36/36 [==============================] - 0s 2ms/step - loss: 0.8239 - accuracy: 0.7803 - precision: 0.7365 - recall: 0.6244 - val_loss: 0.8465 - val_accuracy: 0.7965 - val_precision: 0.7000 - val_recall: 0.5915\n",
      "Epoch 146/200\n",
      "36/36 [==============================] - 0s 2ms/step - loss: 0.8277 - accuracy: 0.7765 - precision: 0.7278 - recall: 0.6244 - val_loss: 0.8462 - val_accuracy: 0.8009 - val_precision: 0.7049 - val_recall: 0.6056\n",
      "Epoch 147/200\n",
      "36/36 [==============================] - 0s 2ms/step - loss: 0.8221 - accuracy: 0.7877 - precision: 0.7399 - recall: 0.6497 - val_loss: 0.8459 - val_accuracy: 0.8009 - val_precision: 0.7049 - val_recall: 0.6056\n",
      "Epoch 148/200\n",
      "36/36 [==============================] - 0s 2ms/step - loss: 0.8218 - accuracy: 0.7821 - precision: 0.7353 - recall: 0.6345 - val_loss: 0.8456 - val_accuracy: 0.8009 - val_precision: 0.7049 - val_recall: 0.6056\n",
      "Epoch 149/200\n",
      "36/36 [==============================] - 0s 3ms/step - loss: 0.8281 - accuracy: 0.7896 - precision: 0.7386 - recall: 0.6599 - val_loss: 0.8453 - val_accuracy: 0.8009 - val_precision: 0.7049 - val_recall: 0.6056\n",
      "Epoch 150/200\n",
      "36/36 [==============================] - 0s 2ms/step - loss: 0.8177 - accuracy: 0.7821 - precision: 0.7353 - recall: 0.6345 - val_loss: 0.8450 - val_accuracy: 0.8009 - val_precision: 0.7049 - val_recall: 0.6056\n",
      "Epoch 151/200\n",
      "36/36 [==============================] - 0s 2ms/step - loss: 0.8171 - accuracy: 0.7914 - precision: 0.7457 - recall: 0.6548 - val_loss: 0.8446 - val_accuracy: 0.8009 - val_precision: 0.7049 - val_recall: 0.6056\n",
      "Epoch 152/200\n",
      "36/36 [==============================] - 0s 2ms/step - loss: 0.8271 - accuracy: 0.7691 - precision: 0.7086 - recall: 0.6294 - val_loss: 0.8443 - val_accuracy: 0.8009 - val_precision: 0.7049 - val_recall: 0.6056\n",
      "Epoch 153/200\n",
      "36/36 [==============================] - 0s 2ms/step - loss: 0.8190 - accuracy: 0.7747 - precision: 0.7262 - recall: 0.6193 - val_loss: 0.8440 - val_accuracy: 0.8009 - val_precision: 0.7049 - val_recall: 0.6056\n",
      "Epoch 154/200\n",
      "36/36 [==============================] - 0s 2ms/step - loss: 0.8271 - accuracy: 0.7747 - precision: 0.7135 - recall: 0.6447 - val_loss: 0.8436 - val_accuracy: 0.8009 - val_precision: 0.7049 - val_recall: 0.6056\n",
      "Epoch 155/200\n",
      "36/36 [==============================] - 0s 2ms/step - loss: 0.8150 - accuracy: 0.7765 - precision: 0.7200 - recall: 0.6396 - val_loss: 0.8433 - val_accuracy: 0.8009 - val_precision: 0.7049 - val_recall: 0.6056\n",
      "Epoch 156/200\n",
      "36/36 [==============================] - 0s 2ms/step - loss: 0.8120 - accuracy: 0.7914 - precision: 0.7401 - recall: 0.6650 - val_loss: 0.8429 - val_accuracy: 0.8009 - val_precision: 0.7049 - val_recall: 0.6056\n",
      "Epoch 157/200\n",
      "36/36 [==============================] - 0s 2ms/step - loss: 0.8145 - accuracy: 0.7914 - precision: 0.7640 - recall: 0.6244 - val_loss: 0.8426 - val_accuracy: 0.8009 - val_precision: 0.7049 - val_recall: 0.6056\n",
      "Epoch 158/200\n",
      "36/36 [==============================] - 0s 2ms/step - loss: 0.8137 - accuracy: 0.7858 - precision: 0.7356 - recall: 0.6497 - val_loss: 0.8422 - val_accuracy: 0.8009 - val_precision: 0.7049 - val_recall: 0.6056\n",
      "Epoch 159/200\n",
      "36/36 [==============================] - 0s 3ms/step - loss: 0.8110 - accuracy: 0.7840 - precision: 0.7341 - recall: 0.6447 - val_loss: 0.8420 - val_accuracy: 0.8009 - val_precision: 0.7049 - val_recall: 0.6056\n",
      "Epoch 160/200\n",
      "36/36 [==============================] - 0s 3ms/step - loss: 0.8089 - accuracy: 0.7803 - precision: 0.7337 - recall: 0.6294 - val_loss: 0.8417 - val_accuracy: 0.8009 - val_precision: 0.7049 - val_recall: 0.6056\n",
      "Epoch 161/200\n",
      "36/36 [==============================] - 0s 2ms/step - loss: 0.8086 - accuracy: 0.7896 - precision: 0.7471 - recall: 0.6447 - val_loss: 0.8414 - val_accuracy: 0.8009 - val_precision: 0.7049 - val_recall: 0.6056\n",
      "Epoch 162/200\n",
      "36/36 [==============================] - 0s 2ms/step - loss: 0.8122 - accuracy: 0.7821 - precision: 0.7326 - recall: 0.6396 - val_loss: 0.8411 - val_accuracy: 0.8009 - val_precision: 0.7049 - val_recall: 0.6056\n",
      "Epoch 163/200\n",
      "36/36 [==============================] - 0s 2ms/step - loss: 0.8126 - accuracy: 0.7803 - precision: 0.7232 - recall: 0.6497 - val_loss: 0.8409 - val_accuracy: 0.8009 - val_precision: 0.7049 - val_recall: 0.6056\n",
      "Epoch 164/200\n",
      "36/36 [==============================] - 0s 2ms/step - loss: 0.8096 - accuracy: 0.7914 - precision: 0.7515 - recall: 0.6447 - val_loss: 0.8405 - val_accuracy: 0.8009 - val_precision: 0.7049 - val_recall: 0.6056\n",
      "Epoch 165/200\n",
      "36/36 [==============================] - 0s 3ms/step - loss: 0.8085 - accuracy: 0.7858 - precision: 0.7470 - recall: 0.6294 - val_loss: 0.8402 - val_accuracy: 0.8009 - val_precision: 0.7049 - val_recall: 0.6056\n",
      "Epoch 166/200\n",
      "36/36 [==============================] - 0s 2ms/step - loss: 0.8081 - accuracy: 0.7803 - precision: 0.7310 - recall: 0.6345 - val_loss: 0.8399 - val_accuracy: 0.8009 - val_precision: 0.7049 - val_recall: 0.6056\n",
      "Epoch 167/200\n",
      "36/36 [==============================] - 0s 2ms/step - loss: 0.8165 - accuracy: 0.7803 - precision: 0.7207 - recall: 0.6548 - val_loss: 0.8396 - val_accuracy: 0.8009 - val_precision: 0.7049 - val_recall: 0.6056\n",
      "Epoch 168/200\n",
      "36/36 [==============================] - 0s 3ms/step - loss: 0.8076 - accuracy: 0.7840 - precision: 0.7263 - recall: 0.6599 - val_loss: 0.8393 - val_accuracy: 0.8009 - val_precision: 0.7049 - val_recall: 0.6056\n",
      "Epoch 169/200\n",
      "36/36 [==============================] - 0s 2ms/step - loss: 0.8057 - accuracy: 0.7691 - precision: 0.7110 - recall: 0.6244 - val_loss: 0.8390 - val_accuracy: 0.8009 - val_precision: 0.7049 - val_recall: 0.6056\n",
      "Epoch 170/200\n",
      "36/36 [==============================] - 0s 2ms/step - loss: 0.8088 - accuracy: 0.7858 - precision: 0.7384 - recall: 0.6447 - val_loss: 0.8388 - val_accuracy: 0.7965 - val_precision: 0.6935 - val_recall: 0.6056\n",
      "Epoch 171/200\n",
      "36/36 [==============================] - 0s 2ms/step - loss: 0.8105 - accuracy: 0.7840 - precision: 0.7341 - recall: 0.6447 - val_loss: 0.8385 - val_accuracy: 0.7965 - val_precision: 0.6935 - val_recall: 0.6056\n",
      "Epoch 172/200\n",
      "36/36 [==============================] - 0s 2ms/step - loss: 0.8082 - accuracy: 0.7709 - precision: 0.7126 - recall: 0.6294 - val_loss: 0.8383 - val_accuracy: 0.7965 - val_precision: 0.6935 - val_recall: 0.6056\n",
      "Epoch 173/200\n",
      "36/36 [==============================] - 0s 2ms/step - loss: 0.8033 - accuracy: 0.7896 - precision: 0.7414 - recall: 0.6548 - val_loss: 0.8380 - val_accuracy: 0.7965 - val_precision: 0.6935 - val_recall: 0.6056\n",
      "Epoch 174/200\n",
      "36/36 [==============================] - 0s 2ms/step - loss: 0.8042 - accuracy: 0.7765 - precision: 0.7251 - recall: 0.6294 - val_loss: 0.8377 - val_accuracy: 0.7965 - val_precision: 0.6935 - val_recall: 0.6056\n",
      "Epoch 175/200\n",
      "36/36 [==============================] - 0s 2ms/step - loss: 0.8047 - accuracy: 0.7821 - precision: 0.7299 - recall: 0.6447 - val_loss: 0.8374 - val_accuracy: 0.7965 - val_precision: 0.6935 - val_recall: 0.6056\n",
      "Epoch 176/200\n",
      "36/36 [==============================] - 0s 2ms/step - loss: 0.8016 - accuracy: 0.7784 - precision: 0.7241 - recall: 0.6396 - val_loss: 0.8371 - val_accuracy: 0.7965 - val_precision: 0.6935 - val_recall: 0.6056\n",
      "Epoch 177/200\n",
      "36/36 [==============================] - 0s 3ms/step - loss: 0.8132 - accuracy: 0.7747 - precision: 0.7235 - recall: 0.6244 - val_loss: 0.8368 - val_accuracy: 0.7965 - val_precision: 0.6935 - val_recall: 0.6056\n",
      "Epoch 178/200\n",
      "36/36 [==============================] - 0s 2ms/step - loss: 0.8111 - accuracy: 0.7784 - precision: 0.7216 - recall: 0.6447 - val_loss: 0.8364 - val_accuracy: 0.7965 - val_precision: 0.6935 - val_recall: 0.6056\n",
      "Epoch 179/200\n",
      "36/36 [==============================] - 0s 2ms/step - loss: 0.8007 - accuracy: 0.7803 - precision: 0.7310 - recall: 0.6345 - val_loss: 0.8362 - val_accuracy: 0.7965 - val_precision: 0.6935 - val_recall: 0.6056\n",
      "Epoch 180/200\n",
      "36/36 [==============================] - 0s 3ms/step - loss: 0.8032 - accuracy: 0.7840 - precision: 0.7368 - recall: 0.6396 - val_loss: 0.8359 - val_accuracy: 0.7965 - val_precision: 0.6935 - val_recall: 0.6056\n",
      "Epoch 181/200\n",
      "36/36 [==============================] - 0s 2ms/step - loss: 0.8024 - accuracy: 0.7952 - precision: 0.7486 - recall: 0.6650 - val_loss: 0.8357 - val_accuracy: 0.7965 - val_precision: 0.6935 - val_recall: 0.6056\n",
      "Epoch 182/200\n",
      "36/36 [==============================] - 0s 3ms/step - loss: 0.7977 - accuracy: 0.7896 - precision: 0.7442 - recall: 0.6497 - val_loss: 0.8354 - val_accuracy: 0.7965 - val_precision: 0.6935 - val_recall: 0.6056\n",
      "Epoch 183/200\n",
      "36/36 [==============================] - 0s 3ms/step - loss: 0.7969 - accuracy: 0.7840 - precision: 0.7425 - recall: 0.6294 - val_loss: 0.8352 - val_accuracy: 0.7965 - val_precision: 0.6935 - val_recall: 0.6056\n",
      "Epoch 184/200\n",
      "36/36 [==============================] - 0s 2ms/step - loss: 0.8000 - accuracy: 0.7803 - precision: 0.7257 - recall: 0.6447 - val_loss: 0.8349 - val_accuracy: 0.7965 - val_precision: 0.6935 - val_recall: 0.6056\n",
      "Epoch 185/200\n",
      "36/36 [==============================] - 0s 2ms/step - loss: 0.7928 - accuracy: 0.7896 - precision: 0.7414 - recall: 0.6548 - val_loss: 0.8347 - val_accuracy: 0.7965 - val_precision: 0.6935 - val_recall: 0.6056\n",
      "Epoch 186/200\n",
      "36/36 [==============================] - 0s 2ms/step - loss: 0.8035 - accuracy: 0.7784 - precision: 0.7216 - recall: 0.6447 - val_loss: 0.8345 - val_accuracy: 0.7965 - val_precision: 0.6935 - val_recall: 0.6056\n",
      "Epoch 187/200\n",
      "36/36 [==============================] - 0s 2ms/step - loss: 0.7965 - accuracy: 0.7877 - precision: 0.7345 - recall: 0.6599 - val_loss: 0.8341 - val_accuracy: 0.7965 - val_precision: 0.6935 - val_recall: 0.6056\n",
      "Epoch 188/200\n",
      "36/36 [==============================] - 0s 2ms/step - loss: 0.7923 - accuracy: 0.7747 - precision: 0.7135 - recall: 0.6447 - val_loss: 0.8338 - val_accuracy: 0.7965 - val_precision: 0.6935 - val_recall: 0.6056\n",
      "Epoch 189/200\n",
      "36/36 [==============================] - 0s 3ms/step - loss: 0.7940 - accuracy: 0.7747 - precision: 0.7235 - recall: 0.6244 - val_loss: 0.8334 - val_accuracy: 0.7965 - val_precision: 0.6935 - val_recall: 0.6056\n",
      "Epoch 190/200\n",
      "36/36 [==============================] - 0s 3ms/step - loss: 0.7930 - accuracy: 0.7933 - precision: 0.7443 - recall: 0.6650 - val_loss: 0.8330 - val_accuracy: 0.7965 - val_precision: 0.6935 - val_recall: 0.6056\n",
      "Epoch 191/200\n",
      "36/36 [==============================] - 0s 3ms/step - loss: 0.7932 - accuracy: 0.7803 - precision: 0.7232 - recall: 0.6497 - val_loss: 0.8328 - val_accuracy: 0.7965 - val_precision: 0.6935 - val_recall: 0.6056\n",
      "Epoch 192/200\n",
      "36/36 [==============================] - 0s 2ms/step - loss: 0.7923 - accuracy: 0.7840 - precision: 0.7238 - recall: 0.6650 - val_loss: 0.8324 - val_accuracy: 0.7965 - val_precision: 0.6935 - val_recall: 0.6056\n",
      "Epoch 193/200\n",
      "36/36 [==============================] - 0s 3ms/step - loss: 0.7970 - accuracy: 0.7784 - precision: 0.7349 - recall: 0.6193 - val_loss: 0.8322 - val_accuracy: 0.7965 - val_precision: 0.6935 - val_recall: 0.6056\n",
      "Epoch 194/200\n",
      "36/36 [==============================] - 0s 2ms/step - loss: 0.7881 - accuracy: 0.7896 - precision: 0.7414 - recall: 0.6548 - val_loss: 0.8320 - val_accuracy: 0.7965 - val_precision: 0.6935 - val_recall: 0.6056\n",
      "Epoch 195/200\n",
      "36/36 [==============================] - 0s 3ms/step - loss: 0.7938 - accuracy: 0.7970 - precision: 0.7588 - recall: 0.6548 - val_loss: 0.8317 - val_accuracy: 0.7965 - val_precision: 0.6935 - val_recall: 0.6056\n",
      "Epoch 196/200\n",
      "36/36 [==============================] - 0s 2ms/step - loss: 0.7935 - accuracy: 0.7858 - precision: 0.7470 - recall: 0.6294 - val_loss: 0.8316 - val_accuracy: 0.7922 - val_precision: 0.6825 - val_recall: 0.6056\n",
      "Epoch 197/200\n",
      "36/36 [==============================] - 0s 3ms/step - loss: 0.7961 - accuracy: 0.7784 - precision: 0.7216 - recall: 0.6447 - val_loss: 0.8312 - val_accuracy: 0.7922 - val_precision: 0.6825 - val_recall: 0.6056\n",
      "Epoch 198/200\n",
      "36/36 [==============================] - 0s 2ms/step - loss: 0.7927 - accuracy: 0.7858 - precision: 0.7440 - recall: 0.6345 - val_loss: 0.8310 - val_accuracy: 0.7922 - val_precision: 0.6825 - val_recall: 0.6056\n",
      "Epoch 199/200\n",
      "36/36 [==============================] - 0s 3ms/step - loss: 0.7912 - accuracy: 0.7747 - precision: 0.7209 - recall: 0.6294 - val_loss: 0.8308 - val_accuracy: 0.7922 - val_precision: 0.6825 - val_recall: 0.6056\n",
      "Epoch 200/200\n",
      "36/36 [==============================] - 0s 3ms/step - loss: 0.7880 - accuracy: 0.7952 - precision: 0.7377 - recall: 0.6853 - val_loss: 0.8305 - val_accuracy: 0.7922 - val_precision: 0.6825 - val_recall: 0.6056\n"
     ]
    },
    {
     "data": {
      "text/plain": [
       "<tensorflow.python.keras.callbacks.History at 0x7fbea84bca90>"
      ]
     },
     "execution_count": 10,
     "metadata": {},
     "output_type": "execute_result"
    }
   ],
   "source": [
    "model.fit(x_scaled_train, y_train, epochs =200, batch_size = 15, validation_data = (x_scaled_test, y_test))"
   ]
  },
  {
   "cell_type": "code",
   "execution_count": 11,
   "metadata": {},
   "outputs": [
    {
     "name": "stdout",
     "output_type": "stream",
     "text": [
      "Test Data Metrics:\n",
      "WARNING:tensorflow:From <ipython-input-11-a56df005f7d4>:3: Sequential.predict_classes (from tensorflow.python.keras.engine.sequential) is deprecated and will be removed after 2021-01-01.\n",
      "Instructions for updating:\n",
      "Please use instead:* `np.argmax(model.predict(x), axis=-1)`,   if your model does multi-class classification   (e.g. if it uses a `softmax` last-layer activation).* `(model.predict(x) > 0.5).astype(\"int32\")`,   if your model does binary classification   (e.g. if it uses a `sigmoid` last-layer activation).\n",
      "              precision    recall  f1-score   support\n",
      "\n",
      "           0       0.83      0.88      0.85       160\n",
      "           1       0.68      0.61      0.64        71\n",
      "\n",
      "    accuracy                           0.79       231\n",
      "   macro avg       0.76      0.74      0.75       231\n",
      "weighted avg       0.79      0.79      0.79       231\n",
      "\n",
      "Train Data Metrics:\n",
      "              precision    recall  f1-score   support\n",
      "\n",
      "           0       0.81      0.87      0.84       340\n",
      "           1       0.74      0.64      0.69       197\n",
      "\n",
      "    accuracy                           0.79       537\n",
      "   macro avg       0.77      0.76      0.76       537\n",
      "weighted avg       0.78      0.79      0.78       537\n",
      "\n",
      "WARNING:tensorflow:From <ipython-input-11-a56df005f7d4>:11: Sequential.predict_proba (from tensorflow.python.keras.engine.sequential) is deprecated and will be removed after 2021-01-01.\n",
      "Instructions for updating:\n",
      "Please use `model.predict()` instead.\n"
     ]
    },
    {
     "data": {
      "text/plain": [
       "[<matplotlib.lines.Line2D at 0x7fbef879b950>]"
      ]
     },
     "execution_count": 11,
     "metadata": {},
     "output_type": "execute_result"
    },
    {
     "data": {
      "image/png": "[encoded data removed]",
      "text/plain": [
       "<Figure size 432x288 with 1 Axes>"
      ]
     },
     "metadata": {
      "needs_background": "light"
     },
     "output_type": "display_data"
    }
   ],
   "source": [
    "# What is the accuracy, precision and recall and F1 score for the training and the test data?\n",
    "print(\"Test Data Metrics:\")\n",
    "pred_test1 = model.predict_classes(x_scaled_test)\n",
    "print(classification_report(y_test,pred_test1))\n",
    "\n",
    "print('Train Data Metrics:')\n",
    "pred_train1 = model.predict_classes(x_scaled_train)\n",
    "print(classification_report(y_train, pred_train1))\n",
    "\n",
    "# ROC Curve\n",
    "DNN_prob = model.predict_proba(x_scaled_test)\n",
    "fpr, tpr, _ = metrics.roc_curve(y_test, DNN_prob[:,:1])\n",
    "plt.plot(fpr, tpr)"
   ]
  },
  {
   "cell_type": "markdown",
   "metadata": {},
   "source": [
    "plot the test precision curve  and accuracy curve for decision thresholds between 0.1 to 1 with a step of 0.1"
   ]
  },
  {
   "cell_type": "code",
   "execution_count": 12,
   "metadata": {},
   "outputs": [
    {
     "data": {
      "text/plain": [
       "[<matplotlib.lines.Line2D at 0x7fbe8849ad50>]"
      ]
     },
     "execution_count": 12,
     "metadata": {},
     "output_type": "execute_result"
    },
    {
     "data": {
      "text/plain": [
       "[<matplotlib.lines.Line2D at 0x7fbef8799ad0>]"
      ]
     },
     "execution_count": 12,
     "metadata": {},
     "output_type": "execute_result"
    },
    {
     "data": {
      "image/png": "[encoded data removed]",
      "text/plain": [
       "<Figure size 432x288 with 1 Axes>"
      ]
     },
     "metadata": {
      "needs_background": "light"
     },
     "output_type": "display_data"
    }
   ],
   "source": [
    "# PLOTTING THE PRECISION CURVE AND ACCURACY CURVE\n",
    "from sklearn import metrics\n",
    "import numpy as np\n",
    "thresholds = np.linspace(0, 0.9, 100)\n",
    "precision_list  = []\n",
    "accuracy_list = []\n",
    "\n",
    "for th in thresholds:\n",
    "    pred1 = prob_test[:,1] >= th\n",
    "    precision_list.append(metrics.precision_score(y_test, pred1))\n",
    "    accuracy_list.append(metrics.accuracy_score(y_test, pred1))\n",
    "plt.plot(thresholds, precision_list)\n",
    "plt.plot(thresholds, accuracy_list, c = 'g')\n",
    "\n",
    "# At around 70% the model begins to overfit."
   ]
  },
  {
   "cell_type": "markdown",
   "metadata": {},
   "source": [
    "## Random Forest\n",
    "Build a random forest with `n_estimators=100`. What is the accuracy, precision and recall and F1 score for the training and the test data? Plot the ROC curve? Is the model overfitting"
   ]
  },
  {
   "cell_type": "code",
   "execution_count": 13,
   "metadata": {},
   "outputs": [
    {
     "data": {
      "text/plain": [
       "RandomForestClassifier(bootstrap=True, class_weight=None, criterion='gini',\n",
       "                       max_depth=None, max_features='auto', max_leaf_nodes=None,\n",
       "                       min_impurity_decrease=0.0, min_impurity_split=None,\n",
       "                       min_samples_leaf=1, min_samples_split=2,\n",
       "                       min_weight_fraction_leaf=0.0, n_estimators=100,\n",
       "                       n_jobs=None, oob_score=False, random_state=None,\n",
       "                       verbose=0, warm_start=False)"
      ]
     },
     "execution_count": 13,
     "metadata": {},
     "output_type": "execute_result"
    },
    {
     "name": "stdout",
     "output_type": "stream",
     "text": [
      "              precision    recall  f1-score   support\n",
      "\n",
      "           0       0.82      0.83      0.82       160\n",
      "           1       0.60      0.58      0.59        71\n",
      "\n",
      "    accuracy                           0.75       231\n",
      "   macro avg       0.71      0.70      0.71       231\n",
      "weighted avg       0.75      0.75      0.75       231\n",
      "\n",
      "              precision    recall  f1-score   support\n",
      "\n",
      "           0       1.00      1.00      1.00       340\n",
      "           1       1.00      0.99      1.00       197\n",
      "\n",
      "    accuracy                           1.00       537\n",
      "   macro avg       1.00      1.00      1.00       537\n",
      "weighted avg       1.00      1.00      1.00       537\n",
      "\n"
     ]
    },
    {
     "data": {
      "text/plain": [
       "[<matplotlib.lines.Line2D at 0x7fbe98445e90>]"
      ]
     },
     "execution_count": 13,
     "metadata": {},
     "output_type": "execute_result"
    },
    {
     "data": {
      "text/plain": [
       "Text(0.5, 1.0, 'ROC Curve')"
      ]
     },
     "execution_count": 13,
     "metadata": {},
     "output_type": "execute_result"
    },
    {
     "data": {
      "text/plain": [
       "[<matplotlib.lines.Line2D at 0x7fbe98445450>]"
      ]
     },
     "execution_count": 13,
     "metadata": {},
     "output_type": "execute_result"
    },
    {
     "data": {
      "text/plain": [
       "0.8168133802816901"
      ]
     },
     "execution_count": 13,
     "metadata": {},
     "output_type": "execute_result"
    },
    {
     "data": {
      "image/png": "[encoded data removed]",
      "text/plain": [
       "<Figure size 432x288 with 1 Axes>"
      ]
     },
     "metadata": {
      "needs_background": "light"
     },
     "output_type": "display_data"
    }
   ],
   "source": [
    "from sklearn.tree import DecisionTreeClassifier\n",
    "from sklearn.metrics import precision_recall_fscore_support, classification_report\n",
    "\n",
    "# CREATING RANDOM FORESTS\n",
    "from sklearn.ensemble import RandomForestClassifier\n",
    "rfc = RandomForestClassifier(n_estimators = 100)\n",
    "rfc.fit(X_train, y_train)\n",
    "\n",
    "rfc_pred_test = rfc.predict(X_test)\n",
    "print(classification_report(y_test, rfc_pred_test))\n",
    "\n",
    "rfc_pred_train = rfc.predict(X_train)\n",
    "print(classification_report(y_train, rfc_pred_train))\n",
    "\n",
    "rfc_proba= rfc.predict_proba(X_test)\n",
    "rfc_proba_trian = rfc.predict_proba(X_train)\n",
    "\n",
    "#plot the ROC curve Test \n",
    "fpr, tpr, _ = metrics.roc_curve(y_test, rfc_proba[:,1])\n",
    "plt.plot(fpr, tpr)\n",
    "plt.title(\"ROC Curve\")\n",
    "\n",
    "fpr2, tpr2, _ = metrics.roc_curve(y_train, rfc_proba_trian[:,1])\n",
    "plt.plot(fpr2, tpr2, color = \"r\")\n",
    "\n",
    "metrics.auc(fpr, tpr)\n",
    "\n",
    "# Yes, our model is overfitting but it is not overfitting by too much. Our AUC is 80.02%. "
   ]
  },
  {
   "cell_type": "markdown",
   "metadata": {},
   "source": [
    "build another model to limit the overfitting problem by using `n_estimators=1000, max_depth=8` as your random forest parameters. Is the overfitting better now?"
   ]
  },
  {
   "cell_type": "code",
   "execution_count": 14,
   "metadata": {},
   "outputs": [
    {
     "data": {
      "text/plain": [
       "RandomForestClassifier(bootstrap=True, class_weight=None, criterion='gini',\n",
       "                       max_depth=8, max_features='auto', max_leaf_nodes=None,\n",
       "                       min_impurity_decrease=0.0, min_impurity_split=None,\n",
       "                       min_samples_leaf=1, min_samples_split=2,\n",
       "                       min_weight_fraction_leaf=0.0, n_estimators=1000,\n",
       "                       n_jobs=None, oob_score=False, random_state=None,\n",
       "                       verbose=0, warm_start=False)"
      ]
     },
     "execution_count": 14,
     "metadata": {},
     "output_type": "execute_result"
    },
    {
     "name": "stdout",
     "output_type": "stream",
     "text": [
      "              precision    recall  f1-score   support\n",
      "\n",
      "           0       0.81      0.85      0.83       160\n",
      "           1       0.62      0.55      0.58        71\n",
      "\n",
      "    accuracy                           0.76       231\n",
      "   macro avg       0.71      0.70      0.71       231\n",
      "weighted avg       0.75      0.76      0.75       231\n",
      "\n",
      "              precision    recall  f1-score   support\n",
      "\n",
      "           0       0.98      0.99      0.99       340\n",
      "           1       0.98      0.96      0.97       197\n",
      "\n",
      "    accuracy                           0.98       537\n",
      "   macro avg       0.98      0.98      0.98       537\n",
      "weighted avg       0.98      0.98      0.98       537\n",
      "\n"
     ]
    },
    {
     "data": {
      "text/plain": [
       "[<matplotlib.lines.Line2D at 0x7fbeb8eca890>]"
      ]
     },
     "execution_count": 14,
     "metadata": {},
     "output_type": "execute_result"
    },
    {
     "data": {
      "text/plain": [
       "[<matplotlib.lines.Line2D at 0x7fbeb8ecacd0>]"
      ]
     },
     "execution_count": 14,
     "metadata": {},
     "output_type": "execute_result"
    },
    {
     "data": {
      "text/plain": [
       "0.9985368766796059"
      ]
     },
     "execution_count": 14,
     "metadata": {},
     "output_type": "execute_result"
    },
    {
     "data": {
      "text/plain": [
       "'\\nThe model is better with a max depth of 8 as the area under the curve very close to 1 meaning that it is a better \\noverall model than then one we had before with smaller forest and no depth.\\n'"
      ]
     },
     "execution_count": 14,
     "metadata": {},
     "output_type": "execute_result"
    },
    {
     "data": {
      "image/png": "[encoded data removed]",
      "text/plain": [
       "<Figure size 432x288 with 1 Axes>"
      ]
     },
     "metadata": {
      "needs_background": "light"
     },
     "output_type": "display_data"
    }
   ],
   "source": [
    "rfc1 = RandomForestClassifier(n_estimators = 1000, max_depth = 8)\n",
    "rfc1.fit(X_train,y_train)\n",
    "\n",
    "rfc_pred_test1 = rfc1.predict(X_test)\n",
    "print(classification_report(y_test, rfc_pred_test1))\n",
    "\n",
    "rfc_pred_train2 = rfc1.predict(X_train)\n",
    "print(classification_report(y_train, rfc_pred_train2))\n",
    "\n",
    "rfc1_proba =rfc1.predict_proba(X_test)\n",
    "rfc1_proba_train =rfc1.predict_proba(X_train)\n",
    "\n",
    "# Plotting the ROC Curve\n",
    "fpr1, tpr1, _ = metrics.roc_curve(y_test, rfc1_proba[:,1])\n",
    "plt.plot(fpr1, tpr1)\n",
    "\n",
    "fpr1, tpr1, _ = metrics.roc_curve(y_train, rfc1_proba_train[:,1])\n",
    "plt.plot(fpr1, tpr1)\n",
    "\n",
    "#AUC                            \n",
    "metrics.auc(fpr1, tpr1)\n",
    "\n",
    "'''\n",
    "The model is better with a max depth of 8 as the area under the curve very close to 1 meaning that it is a better \n",
    "overall model than then one we had before with smaller forest and no depth.\n",
    "'''"
   ]
  },
  {
   "cell_type": "markdown",
   "metadata": {},
   "source": [
    "plot the test precision curve  and accuracy curve for decision thresholds between 0.1 to 1 with a step of 0.1"
   ]
  },
  {
   "cell_type": "code",
   "execution_count": 15,
   "metadata": {},
   "outputs": [
    {
     "name": "stderr",
     "output_type": "stream",
     "text": [
      "/Users/fjacobo/opt/anaconda3/lib/python3.7/site-packages/sklearn/metrics/classification.py:1437: UndefinedMetricWarning: Precision is ill-defined and being set to 0.0 due to no predicted samples.\n",
      "  'precision', 'predicted', average, warn_for)\n"
     ]
    },
    {
     "data": {
      "text/plain": [
       "[<matplotlib.lines.Line2D at 0x7fbedcd12450>]"
      ]
     },
     "execution_count": 15,
     "metadata": {},
     "output_type": "execute_result"
    },
    {
     "data": {
      "text/plain": [
       "[<matplotlib.lines.Line2D at 0x7fbedcd12b10>]"
      ]
     },
     "execution_count": 15,
     "metadata": {},
     "output_type": "execute_result"
    },
    {
     "data": {
      "image/png": "[encoded data removed]",
      "text/plain": [
       "<Figure size 432x288 with 1 Axes>"
      ]
     },
     "metadata": {
      "needs_background": "light"
     },
     "output_type": "display_data"
    }
   ],
   "source": [
    "thresh = np.linspace(0, 0.9, 100)\n",
    "precision_list1 = []\n",
    "accuracy_list1 = []\n",
    "\n",
    "for th in thresh:\n",
    "    pred3 = rfc1_proba[:,1] >= th \n",
    "    precision_list1.append(metrics.precision_score(y_test, pred3))\n",
    "    accuracy_list1.append(metrics.accuracy_score(y_test, pred3))\n",
    "plt.plot(thresh, precision_list1)\n",
    "plt.plot(thresh, accuracy_list1, c = \"red\")"
   ]
  },
  {
   "cell_type": "markdown",
   "metadata": {},
   "source": [
    "# Finally: \n",
    "- Write a few lines about each of the three models and if there is one superior model and why do you think so?"
   ]
  },
  {
   "cell_type": "code",
   "execution_count": 16,
   "metadata": {},
   "outputs": [
    {
     "data": {
      "text/plain": [
       "'0.79\\nThe 3 models are effective, however, the forest model with a 1000 trees and a depth of 8 gives us the best model. \\nWe begin with an accuracy of 76% with the logistic regression model. \\nThe deep neural network model gives us an accuracy of 80% which is better than the logistic regression model.\\nFirst random forest give us an area under the curve of around 80%, however, the second forest we created had an \\narea under the curve of 99%. Since we have a higher area under the curve in the second forest that is a better \\nmore effective model. \\n'"
      ]
     },
     "execution_count": 16,
     "metadata": {},
     "output_type": "execute_result"
    }
   ],
   "source": [
    "'''0.79\n",
    "The 3 models are effective, however, the forest model with a 1000 trees and a depth of 8 gives us the best model. \n",
    "We begin with an accuracy of 76% with the logistic regression model. \n",
    "The deep neural network model gives us an accuracy of 80% which is better than the logistic regression model.\n",
    "First random forest give us an area under the curve of around 80%, however, the second forest we created had an \n",
    "area under the curve of 99%. Since we have a higher area under the curve in the second forest that is a better \n",
    "more effective model. \n",
    "'''"
   ]
  }
 ],
 "metadata": {
  "kernelspec": {
   "display_name": "Python 3",
   "language": "python",
   "name": "python3"
  },
  "language_info": {
   "codemirror_mode": {
    "name": "ipython",
    "version": 3
   },
   "file_extension": ".py",
   "mimetype": "text/x-python",
   "name": "python",
   "nbconvert_exporter": "python",
   "pygments_lexer": "ipython3",
   "version": "3.7.4"
  }
 },
 "nbformat": 4,
 "nbformat_minor": 4
}
